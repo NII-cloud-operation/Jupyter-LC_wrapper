{
 "cells": [
  {
   "cell_type": "markdown",
   "metadata": {
    "lc_cell_meme": {
     "current": "2236e8ca-56eb-11e7-ba0d-0242ac110002",
     "history": [
      {
       "current": "2236e8ca-56eb-11e7-ba0d-0242ac110002",
       "next": "2236eb90-56eb-11e7-ba0d-0242ac110002",
       "previous": null
      }
     ],
     "next": "fe0c8a00-5e28-11e7-a968-0242ac110003",
     "previous": null
    }
   },
   "source": [
    "# Summarizing and Logging\n",
    "\n",
    "An example of *the Summarizing and Logging* mode."
   ]
  },
  {
   "cell_type": "markdown",
   "metadata": {
    "lc_cell_meme": {
     "current": "fe0c8a00-5e28-11e7-a968-0242ac110003",
     "next": "fe0c8d70-5e28-11e7-a968-0242ac110003",
     "previous": "2236e8ca-56eb-11e7-ba0d-0242ac110002"
    }
   },
   "source": [
    "# Enabling the Summarizing and Logging mode\n",
    "\n",
    "To enable the Summarizing and Logging mode, you should add `!!` at the beginning of the code cell."
   ]
  },
  {
   "cell_type": "code",
   "execution_count": 1,
   "metadata": {
    "deletable": false,
    "editable": false,
    "lc_cell_meme": {
     "current": "fe0c8d70-5e28-11e7-a968-0242ac110003",
     "history": [
      {
       "current": "fe0c8d70-5e28-11e7-a968-0242ac110003",
       "next": "2236eb90-56eb-11e7-ba0d-0242ac110002",
       "previous": "fe0c8a00-5e28-11e7-a968-0242ac110003"
      },
      {
       "current": "fe0c8d70-5e28-11e7-a968-0242ac110003",
       "next": "8d19d46e-5e29-11e7-a968-0242ac110003",
       "previous": "fe0c8a00-5e28-11e7-a968-0242ac110003"
      }
     ],
     "next": "d4a11bbc-5e29-11e7-a968-0242ac110003",
     "previous": "fe0c8a00-5e28-11e7-a968-0242ac110003"
    },
    "run_through_control": {
     "frozen": true
    }
   },
   "outputs": [
    {
     "name": "stdout",
     "output_type": "stream",
     "text": [
      "path: /notebooks/.log/20170704/20170704-071330-0124.log\n",
      "start time: 2017-07-04 07:13:30(UTC)\n",
      "end time: 2017-07-04 07:13:40(UTC)\n",
      "output size: 656 bytes\n",
      "0 chunks with matched keywords or errors\n",
      "----\n",
      "0\n",
      "...\n",
      "99"
     ]
    }
   ],
   "source": [
    "!!from time import sleep\n",
    "\n",
    "for i in range(0, 100):\n",
    "    print(i)\n",
    "    sleep(0.1)"
   ]
  },
  {
   "cell_type": "markdown",
   "metadata": {
    "lc_cell_meme": {
     "current": "d4a11bbc-5e29-11e7-a968-0242ac110003",
     "next": "bbf96436-559e-11e7-b923-0242ac110002",
     "previous": "fe0c8d70-5e28-11e7-a968-0242ac110003"
    }
   },
   "source": [
    "You can configure [the summarization settings](https://github.com/NII-cloud-operation/Jupyter-LC_wrapper#settings-by-environment-variables) via the environment variable `lc_wrapper`."
   ]
  },
  {
   "cell_type": "code",
   "execution_count": 2,
   "metadata": {
    "deletable": false,
    "editable": false,
    "lc_cell_meme": {
     "current": "bbf96436-559e-11e7-b923-0242ac110002",
     "history": [
      {
       "current": "bbf96436-559e-11e7-b923-0242ac110002",
       "next": "bbf9667a-559e-11e7-b923-0242ac110002",
       "previous": null
      },
      {
       "current": "bbf96436-559e-11e7-b923-0242ac110002",
       "next": "2236ee24-56eb-11e7-ba0d-0242ac110002",
       "previous": "2236ed02-56eb-11e7-ba0d-0242ac110002"
      },
      {
       "current": "bbf96436-559e-11e7-b923-0242ac110002",
       "next": "8d19d46e-5e29-11e7-a968-0242ac110003",
       "previous": "d4a11bbc-5e29-11e7-a968-0242ac110003"
      }
     ],
     "next": "1c27a2c6-5e2a-11e7-a968-0242ac110003",
     "previous": "d4a11bbc-5e29-11e7-a968-0242ac110003"
    },
    "run_control": {
     "frozen": true
    },
    "run_through_control": {
     "frozen": true
    }
   },
   "outputs": [
    {
     "name": "stdout",
     "output_type": "stream",
     "text": [
      "env: lc_wrapper=4:4:4:4\n"
     ]
    }
   ],
   "source": [
    "%env lc_wrapper=4:4:4:4"
   ]
  },
  {
   "cell_type": "code",
   "execution_count": 3,
   "metadata": {
    "deletable": false,
    "editable": false,
    "lc_cell_meme": {
     "current": "1c27a2c6-5e2a-11e7-a968-0242ac110003",
     "next": "1c27a5f0-5e2a-11e7-a968-0242ac110003",
     "previous": "bbf96436-559e-11e7-b923-0242ac110002"
    },
    "run_through_control": {
     "frozen": true
    }
   },
   "outputs": [
    {
     "name": "stdout",
     "output_type": "stream",
     "text": [
      "path: /notebooks/.log/20170704/20170704-071348-0190.log\n",
      "start time: 2017-07-04 07:13:48(UTC)\n",
      "end time: 2017-07-04 07:13:58(UTC)\n",
      "output size: 656 bytes\n",
      "0 chunks with matched keywords or errors\n",
      "----\n",
      "0\n",
      "1\n",
      "2\n",
      "3\n",
      "...\n",
      "96\n",
      "97\n",
      "98\n",
      "99"
     ]
    }
   ],
   "source": [
    "!!from time import sleep\n",
    "\n",
    "for i in range(0, 100):\n",
    "    print(i)\n",
    "    sleep(0.1)"
   ]
  },
  {
   "cell_type": "markdown",
   "metadata": {
    "lc_cell_meme": {
     "current": "1c27a5f0-5e2a-11e7-a968-0242ac110003",
     "history": [
      {
       "current": "1c27a5f0-5e2a-11e7-a968-0242ac110003",
       "next": "8d19d46e-5e29-11e7-a968-0242ac110003",
       "previous": "1c27a2c6-5e2a-11e7-a968-0242ac110003"
      }
     ],
     "next": "63ae6fbc-5e2a-11e7-a968-0242ac110003",
     "previous": "1c27a2c6-5e2a-11e7-a968-0242ac110003"
    }
   },
   "source": [
    "The `.log` directory is created and the whole of output are recorded on a log file in this directory.\n",
    "\n",
    "The filename is recorded on output area like above."
   ]
  },
  {
   "cell_type": "code",
   "execution_count": 4,
   "metadata": {
    "deletable": false,
    "editable": false,
    "lc_cell_meme": {
     "current": "63ae6fbc-5e2a-11e7-a968-0242ac110003",
     "history": [
      {
       "current": "63ae6fbc-5e2a-11e7-a968-0242ac110003",
       "next": "8d19d46e-5e29-11e7-a968-0242ac110003",
       "previous": "1c27a5f0-5e2a-11e7-a968-0242ac110003"
      }
     ],
     "next": "2236ef50-56eb-11e7-ba0d-0242ac110002",
     "previous": "1c27a5f0-5e2a-11e7-a968-0242ac110003"
    },
    "run_through_control": {
     "frozen": true
    }
   },
   "outputs": [
    {
     "name": "stdout",
     "output_type": "stream",
     "text": [
      "{\"lc_cell_meme\": {\"current\": \"1c27a2c6-5e2a-11e7-a968-0242ac110003\"}}\r\n",
      "----\r\n",
      "!!from time import sleep\r\n",
      "\r\n",
      "for i in range(0, 100):\r\n",
      "    print(i)\r\n",
      "    sleep(0.1)\r\n",
      "----\r\n",
      "path: /notebooks/.log/20170704/20170704-071348-0190.log\r\n",
      "start time: 2017-07-04 07:13:48(UTC)\r\n",
      "----\r\n",
      "0\r\n",
      "1\r\n",
      "2\r\n",
      "3\r\n",
      "4\r\n",
      "5\r\n",
      "6\r\n",
      "7\r\n",
      "8\r\n",
      "9\r\n",
      "10\r\n",
      "11\r\n",
      "12\r\n",
      "13\r\n",
      "14\r\n",
      "15\r\n",
      "16\r\n",
      "17\r\n",
      "18\r\n",
      "19\r\n",
      "20\r\n",
      "21\r\n",
      "22\r\n",
      "23\r\n",
      "24\r\n",
      "25\r\n",
      "26\r\n",
      "27\r\n",
      "28\r\n",
      "29\r\n",
      "30\r\n",
      "31\r\n",
      "32\r\n",
      "33\r\n",
      "34\r\n",
      "35\r\n",
      "36\r\n",
      "37\r\n",
      "38\r\n",
      "39\r\n",
      "40\r\n",
      "41\r\n",
      "42\r\n",
      "43\r\n",
      "44\r\n",
      "45\r\n",
      "46\r\n",
      "47\r\n",
      "48\r\n",
      "49\r\n",
      "50\r\n",
      "51\r\n",
      "52\r\n",
      "53\r\n",
      "54\r\n",
      "55\r\n",
      "56\r\n",
      "57\r\n",
      "58\r\n",
      "59\r\n",
      "60\r\n",
      "61\r\n",
      "62\r\n",
      "63\r\n",
      "64\r\n",
      "65\r\n",
      "66\r\n",
      "67\r\n",
      "68\r\n",
      "69\r\n",
      "70\r\n",
      "71\r\n",
      "72\r\n",
      "73\r\n",
      "74\r\n",
      "75\r\n",
      "76\r\n",
      "77\r\n",
      "78\r\n",
      "79\r\n",
      "80\r\n",
      "81\r\n",
      "82\r\n",
      "83\r\n",
      "84\r\n",
      "85\r\n",
      "86\r\n",
      "87\r\n",
      "88\r\n",
      "89\r\n",
      "90\r\n",
      "91\r\n",
      "92\r\n",
      "93\r\n",
      "94\r\n",
      "95\r\n",
      "96\r\n",
      "97\r\n",
      "98\r\n",
      "99\r\n",
      "\r\n",
      "----\r\n",
      "end time: 2017-07-04 07:13:58(UTC)\r\n",
      "output size: 158 bytes\r\n",
      "0 chunks with matched keywords or errors\r\n",
      "----\r\n"
     ]
    }
   ],
   "source": [
    "!cat /notebooks/.log/20170704/20170704-071348-0190.log"
   ]
  },
  {
   "cell_type": "markdown",
   "metadata": {
    "lc_cell_meme": {
     "current": "2236ef50-56eb-11e7-ba0d-0242ac110002",
     "history": [
      {
       "current": "2236ef50-56eb-11e7-ba0d-0242ac110002",
       "next": "bbf9667a-559e-11e7-b923-0242ac110002",
       "previous": "2236ee24-56eb-11e7-ba0d-0242ac110002"
      },
      {
       "current": "2236ef50-56eb-11e7-ba0d-0242ac110002",
       "next": "bbf9667a-559e-11e7-b923-0242ac110002",
       "previous": "63ae6fbc-5e2a-11e7-a968-0242ac110003"
      }
     ],
     "next": "932a7476-56ea-11e7-ba0d-0242ac110002",
     "previous": "63ae6fbc-5e2a-11e7-a968-0242ac110003"
    }
   },
   "source": [
    "## Various Types of Execution Results\n",
    "\n",
    "LC_wrapper also records execution results not only stream output."
   ]
  },
  {
   "cell_type": "markdown",
   "metadata": {
    "lc_cell_meme": {
     "current": "932a7476-56ea-11e7-ba0d-0242ac110002",
     "history": [
      {
       "current": "932a7476-56ea-11e7-ba0d-0242ac110002",
       "next": "932a75fc-56ea-11e7-ba0d-0242ac110002",
       "previous": "932a7192-56ea-11e7-ba0d-0242ac110002"
      }
     ],
     "next": "bbf9667a-559e-11e7-b923-0242ac110002",
     "previous": "2236ef50-56eb-11e7-ba0d-0242ac110002"
    }
   },
   "source": [
    "### Plain Text in Execution Result\n",
    "\n",
    "An execution result is recorded with stream outputs."
   ]
  },
  {
   "cell_type": "code",
   "execution_count": 5,
   "metadata": {
    "collapsed": true,
    "deletable": false,
    "editable": false,
    "lc_cell_meme": {
     "current": "bbf9667a-559e-11e7-b923-0242ac110002",
     "history": [
      {
       "current": "bbf9667a-559e-11e7-b923-0242ac110002",
       "next": "bbf96878-559e-11e7-b923-0242ac110002",
       "previous": "bbf96436-559e-11e7-b923-0242ac110002"
      },
      {
       "current": "bbf9667a-559e-11e7-b923-0242ac110002",
       "next": "bbf96878-559e-11e7-b923-0242ac110002",
       "previous": "2236ef50-56eb-11e7-ba0d-0242ac110002"
      },
      {
       "current": "bbf9667a-559e-11e7-b923-0242ac110002",
       "next": "932a7192-56ea-11e7-ba0d-0242ac110002",
       "previous": "2236ef50-56eb-11e7-ba0d-0242ac110002"
      }
     ],
     "next": "932a7192-56ea-11e7-ba0d-0242ac110002",
     "previous": "932a7476-56ea-11e7-ba0d-0242ac110002"
    },
    "run_control": {
     "frozen": true
    },
    "run_through_control": {
     "frozen": true
    }
   },
   "outputs": [],
   "source": [
    "def do_something():\n",
    "    return \"output something\""
   ]
  },
  {
   "cell_type": "code",
   "execution_count": 6,
   "metadata": {
    "deletable": false,
    "editable": false,
    "lc_cell_meme": {
     "current": "932a7192-56ea-11e7-ba0d-0242ac110002",
     "history": [
      {
       "current": "932a7192-56ea-11e7-ba0d-0242ac110002",
       "next": "932a7476-56ea-11e7-ba0d-0242ac110002",
       "previous": "bbf96878-559e-11e7-b923-0242ac110002"
      },
      {
       "current": "932a7192-56ea-11e7-ba0d-0242ac110002",
       "next": "932a7476-56ea-11e7-ba0d-0242ac110002",
       "previous": "bbf9667a-559e-11e7-b923-0242ac110002"
      }
     ],
     "next": "932a75fc-56ea-11e7-ba0d-0242ac110002",
     "previous": "bbf9667a-559e-11e7-b923-0242ac110002"
    },
    "run_control": {
     "frozen": true
    },
    "run_through_control": {
     "frozen": true
    }
   },
   "outputs": [
    {
     "data": {
      "text/plain": [
       "'output something'"
      ]
     },
     "execution_count": 6,
     "metadata": {},
     "output_type": "execute_result"
    }
   ],
   "source": [
    "do_something()"
   ]
  },
  {
   "cell_type": "code",
   "execution_count": 7,
   "metadata": {
    "deletable": false,
    "editable": false,
    "lc_cell_meme": {
     "current": "932a75fc-56ea-11e7-ba0d-0242ac110002",
     "history": [
      {
       "current": "932a75fc-56ea-11e7-ba0d-0242ac110002",
       "next": "932a773c-56ea-11e7-ba0d-0242ac110002",
       "previous": "932a7476-56ea-11e7-ba0d-0242ac110002"
      },
      {
       "current": "932a75fc-56ea-11e7-ba0d-0242ac110002",
       "next": "dab0a6b2-56ea-11e7-ba0d-0242ac110002",
       "previous": "932a7476-56ea-11e7-ba0d-0242ac110002"
      },
      {
       "current": "932a75fc-56ea-11e7-ba0d-0242ac110002",
       "next": "3a42e65c-5e2b-11e7-a968-0242ac110003",
       "previous": "932a7476-56ea-11e7-ba0d-0242ac110002"
      }
     ],
     "next": "3a42e65c-5e2b-11e7-a968-0242ac110003",
     "previous": "932a7192-56ea-11e7-ba0d-0242ac110002"
    },
    "run_control": {
     "frozen": true
    },
    "run_through_control": {
     "frozen": true
    }
   },
   "outputs": [
    {
     "name": "stdout",
     "output_type": "stream",
     "text": [
      "path: /notebooks/.log/20170704/20170704-071448-0119.log\n",
      "start time: 2017-07-04 07:14:48(UTC)\n",
      "end time: 2017-07-04 07:14:58(UTC)\n",
      "output size: 732 bytes\n",
      "0 chunks with matched keywords or errors\n",
      "----\n",
      "0\n",
      "1\n",
      "2\n",
      "3\n",
      "...\n",
      "96\n",
      "97\n",
      "98\n",
      "99"
     ]
    },
    {
     "data": {
      "text/plain": [
       "'output something'"
      ]
     },
     "execution_count": 7,
     "metadata": {},
     "output_type": "execute_result"
    }
   ],
   "source": [
    "!!from time import sleep\n",
    "\n",
    "for i in range(0, 100):\n",
    "    print(i)\n",
    "    sleep(0.1)\n",
    "\n",
    "do_something()"
   ]
  },
  {
   "cell_type": "code",
   "execution_count": 8,
   "metadata": {
    "deletable": false,
    "editable": false,
    "lc_cell_meme": {
     "current": "3a42e65c-5e2b-11e7-a968-0242ac110003",
     "next": "3a42e9fe-5e2b-11e7-a968-0242ac110003",
     "previous": "932a75fc-56ea-11e7-ba0d-0242ac110002"
    },
    "run_through_control": {
     "frozen": true
    }
   },
   "outputs": [
    {
     "name": "stdout",
     "output_type": "stream",
     "text": [
      "{\"lc_cell_meme\": {\"current\": \"932a75fc-56ea-11e7-ba0d-0242ac110002\"}}\r\n",
      "----\r\n",
      "!!from time import sleep\r\n",
      "\r\n",
      "for i in range(0, 100):\r\n",
      "    print(i)\r\n",
      "    sleep(0.1)\r\n",
      "\r\n",
      "do_something()\r\n",
      "----\r\n",
      "path: /notebooks/.log/20170704/20170704-071448-0119.log\r\n",
      "start time: 2017-07-04 07:14:48(UTC)\r\n",
      "----\r\n",
      "0\r\n",
      "1\r\n",
      "2\r\n",
      "3\r\n",
      "4\r\n",
      "5\r\n",
      "6\r\n",
      "7\r\n",
      "8\r\n",
      "9\r\n",
      "10\r\n",
      "11\r\n",
      "12\r\n",
      "13\r\n",
      "14\r\n",
      "15\r\n",
      "16\r\n",
      "17\r\n",
      "18\r\n",
      "19\r\n",
      "20\r\n",
      "21\r\n",
      "22\r\n",
      "23\r\n",
      "24\r\n",
      "25\r\n",
      "26\r\n",
      "27\r\n",
      "28\r\n",
      "29\r\n",
      "30\r\n",
      "31\r\n",
      "32\r\n",
      "33\r\n",
      "34\r\n",
      "35\r\n",
      "36\r\n",
      "37\r\n",
      "38\r\n",
      "39\r\n",
      "40\r\n",
      "41\r\n",
      "42\r\n",
      "43\r\n",
      "44\r\n",
      "45\r\n",
      "46\r\n",
      "47\r\n",
      "48\r\n",
      "49\r\n",
      "50\r\n",
      "51\r\n",
      "52\r\n",
      "53\r\n",
      "54\r\n",
      "55\r\n",
      "56\r\n",
      "57\r\n",
      "58\r\n",
      "59\r\n",
      "60\r\n",
      "61\r\n",
      "62\r\n",
      "63\r\n",
      "64\r\n",
      "65\r\n",
      "66\r\n",
      "67\r\n",
      "68\r\n",
      "69\r\n",
      "70\r\n",
      "71\r\n",
      "72\r\n",
      "73\r\n",
      "74\r\n",
      "75\r\n",
      "76\r\n",
      "77\r\n",
      "78\r\n",
      "79\r\n",
      "80\r\n",
      "81\r\n",
      "82\r\n",
      "83\r\n",
      "84\r\n",
      "85\r\n",
      "86\r\n",
      "87\r\n",
      "88\r\n",
      "89\r\n",
      "90\r\n",
      "91\r\n",
      "92\r\n",
      "93\r\n",
      "94\r\n",
      "95\r\n",
      "96\r\n",
      "97\r\n",
      "98\r\n",
      "99\r\n",
      "\r\n",
      "----\r\n",
      "end time: 2017-07-04 07:14:58(UTC)\r\n",
      "output size: 174 bytes\r\n",
      "0 chunks with matched keywords or errors\r\n",
      "----\r\n",
      "result: /notebooks/.log/20170704/20170704-071448-0119-0.pkl\r\n"
     ]
    }
   ],
   "source": [
    "!cat /notebooks/.log/20170704/20170704-071448-0119.log"
   ]
  },
  {
   "cell_type": "markdown",
   "metadata": {
    "lc_cell_meme": {
     "current": "3a42e9fe-5e2b-11e7-a968-0242ac110003",
     "history": [
      {
       "current": "3a42e9fe-5e2b-11e7-a968-0242ac110003",
       "next": "dab0a6b2-56ea-11e7-ba0d-0242ac110002",
       "previous": "3a42e65c-5e2b-11e7-a968-0242ac110003"
      }
     ],
     "next": "81c9561e-5e2b-11e7-a968-0242ac110003",
     "previous": "3a42e65c-5e2b-11e7-a968-0242ac110003"
    }
   },
   "source": [
    "### HTML in Execution Result\n",
    "\n",
    "Also you can contain HTML code in an exeuction result..."
   ]
  },
  {
   "cell_type": "code",
   "execution_count": 9,
   "metadata": {
    "deletable": false,
    "editable": false,
    "lc_cell_meme": {
     "current": "81c9561e-5e2b-11e7-a968-0242ac110003",
     "history": [
      {
       "current": "81c9561e-5e2b-11e7-a968-0242ac110003",
       "next": "dab0a6b2-56ea-11e7-ba0d-0242ac110002",
       "previous": "3a42e9fe-5e2b-11e7-a968-0242ac110003"
      }
     ],
     "next": "c95140be-5e2b-11e7-a968-0242ac110003",
     "previous": "3a42e9fe-5e2b-11e7-a968-0242ac110003"
    },
    "run_through_control": {
     "frozen": true
    }
   },
   "outputs": [
    {
     "name": "stdout",
     "output_type": "stream",
     "text": [
      "path: /notebooks/.log/20170704/20170704-071539-0790.log\n",
      "start time: 2017-07-04 07:15:39(UTC)\n",
      "end time: 2017-07-04 07:15:50(UTC)\n",
      "output size: 867 bytes\n",
      "0 chunks with matched keywords or errors\n",
      "----\n",
      "0\n",
      "1\n",
      "2\n",
      "3\n",
      "...\n",
      "96\n",
      "97\n",
      "98\n",
      "99"
     ]
    },
    {
     "data": {
      "text/html": [
       "<div>\n",
       "<style>\n",
       "    .dataframe thead tr:only-child th {\n",
       "        text-align: right;\n",
       "    }\n",
       "\n",
       "    .dataframe thead th {\n",
       "        text-align: left;\n",
       "    }\n",
       "\n",
       "    .dataframe tbody tr th {\n",
       "        vertical-align: top;\n",
       "    }\n",
       "</style>\n",
       "<table border=\"1\" class=\"dataframe\">\n",
       "  <thead>\n",
       "    <tr style=\"text-align: right;\">\n",
       "      <th></th>\n",
       "      <th>Index</th>\n",
       "      <th>Datetime</th>\n",
       "    </tr>\n",
       "  </thead>\n",
       "  <tbody>\n",
       "    <tr>\n",
       "      <th>0</th>\n",
       "      <td>0</td>\n",
       "      <td>2017-07-04 07:15:40.254218</td>\n",
       "    </tr>\n",
       "    <tr>\n",
       "      <th>1</th>\n",
       "      <td>1</td>\n",
       "      <td>2017-07-04 07:15:40.355224</td>\n",
       "    </tr>\n",
       "    <tr>\n",
       "      <th>2</th>\n",
       "      <td>2</td>\n",
       "      <td>2017-07-04 07:15:40.455753</td>\n",
       "    </tr>\n",
       "    <tr>\n",
       "      <th>3</th>\n",
       "      <td>3</td>\n",
       "      <td>2017-07-04 07:15:40.556035</td>\n",
       "    </tr>\n",
       "    <tr>\n",
       "      <th>4</th>\n",
       "      <td>4</td>\n",
       "      <td>2017-07-04 07:15:40.656669</td>\n",
       "    </tr>\n",
       "    <tr>\n",
       "      <th>5</th>\n",
       "      <td>5</td>\n",
       "      <td>2017-07-04 07:15:40.756945</td>\n",
       "    </tr>\n",
       "    <tr>\n",
       "      <th>6</th>\n",
       "      <td>6</td>\n",
       "      <td>2017-07-04 07:15:40.857524</td>\n",
       "    </tr>\n",
       "    <tr>\n",
       "      <th>7</th>\n",
       "      <td>7</td>\n",
       "      <td>2017-07-04 07:15:40.957998</td>\n",
       "    </tr>\n",
       "    <tr>\n",
       "      <th>8</th>\n",
       "      <td>8</td>\n",
       "      <td>2017-07-04 07:15:41.058410</td>\n",
       "    </tr>\n",
       "    <tr>\n",
       "      <th>9</th>\n",
       "      <td>9</td>\n",
       "      <td>2017-07-04 07:15:41.158994</td>\n",
       "    </tr>\n",
       "    <tr>\n",
       "      <th>10</th>\n",
       "      <td>10</td>\n",
       "      <td>2017-07-04 07:15:41.259493</td>\n",
       "    </tr>\n",
       "    <tr>\n",
       "      <th>11</th>\n",
       "      <td>11</td>\n",
       "      <td>2017-07-04 07:15:41.359999</td>\n",
       "    </tr>\n",
       "    <tr>\n",
       "      <th>12</th>\n",
       "      <td>12</td>\n",
       "      <td>2017-07-04 07:15:41.460488</td>\n",
       "    </tr>\n",
       "    <tr>\n",
       "      <th>13</th>\n",
       "      <td>13</td>\n",
       "      <td>2017-07-04 07:15:41.560985</td>\n",
       "    </tr>\n",
       "    <tr>\n",
       "      <th>14</th>\n",
       "      <td>14</td>\n",
       "      <td>2017-07-04 07:15:41.661581</td>\n",
       "    </tr>\n",
       "    <tr>\n",
       "      <th>15</th>\n",
       "      <td>15</td>\n",
       "      <td>2017-07-04 07:15:41.762014</td>\n",
       "    </tr>\n",
       "    <tr>\n",
       "      <th>16</th>\n",
       "      <td>16</td>\n",
       "      <td>2017-07-04 07:15:41.862497</td>\n",
       "    </tr>\n",
       "    <tr>\n",
       "      <th>17</th>\n",
       "      <td>17</td>\n",
       "      <td>2017-07-04 07:15:41.962989</td>\n",
       "    </tr>\n",
       "    <tr>\n",
       "      <th>18</th>\n",
       "      <td>18</td>\n",
       "      <td>2017-07-04 07:15:42.063466</td>\n",
       "    </tr>\n",
       "    <tr>\n",
       "      <th>19</th>\n",
       "      <td>19</td>\n",
       "      <td>2017-07-04 07:15:42.163874</td>\n",
       "    </tr>\n",
       "    <tr>\n",
       "      <th>20</th>\n",
       "      <td>20</td>\n",
       "      <td>2017-07-04 07:15:42.264358</td>\n",
       "    </tr>\n",
       "    <tr>\n",
       "      <th>21</th>\n",
       "      <td>21</td>\n",
       "      <td>2017-07-04 07:15:42.364739</td>\n",
       "    </tr>\n",
       "    <tr>\n",
       "      <th>22</th>\n",
       "      <td>22</td>\n",
       "      <td>2017-07-04 07:15:42.465420</td>\n",
       "    </tr>\n",
       "    <tr>\n",
       "      <th>23</th>\n",
       "      <td>23</td>\n",
       "      <td>2017-07-04 07:15:42.565930</td>\n",
       "    </tr>\n",
       "    <tr>\n",
       "      <th>24</th>\n",
       "      <td>24</td>\n",
       "      <td>2017-07-04 07:15:42.666383</td>\n",
       "    </tr>\n",
       "    <tr>\n",
       "      <th>25</th>\n",
       "      <td>25</td>\n",
       "      <td>2017-07-04 07:15:42.766796</td>\n",
       "    </tr>\n",
       "    <tr>\n",
       "      <th>26</th>\n",
       "      <td>26</td>\n",
       "      <td>2017-07-04 07:15:42.867228</td>\n",
       "    </tr>\n",
       "    <tr>\n",
       "      <th>27</th>\n",
       "      <td>27</td>\n",
       "      <td>2017-07-04 07:15:42.967666</td>\n",
       "    </tr>\n",
       "    <tr>\n",
       "      <th>28</th>\n",
       "      <td>28</td>\n",
       "      <td>2017-07-04 07:15:43.068147</td>\n",
       "    </tr>\n",
       "    <tr>\n",
       "      <th>29</th>\n",
       "      <td>29</td>\n",
       "      <td>2017-07-04 07:15:43.168652</td>\n",
       "    </tr>\n",
       "    <tr>\n",
       "      <th>...</th>\n",
       "      <td>...</td>\n",
       "      <td>...</td>\n",
       "    </tr>\n",
       "    <tr>\n",
       "      <th>70</th>\n",
       "      <td>70</td>\n",
       "      <td>2017-07-04 07:15:47.288617</td>\n",
       "    </tr>\n",
       "    <tr>\n",
       "      <th>71</th>\n",
       "      <td>71</td>\n",
       "      <td>2017-07-04 07:15:47.389142</td>\n",
       "    </tr>\n",
       "    <tr>\n",
       "      <th>72</th>\n",
       "      <td>72</td>\n",
       "      <td>2017-07-04 07:15:47.489628</td>\n",
       "    </tr>\n",
       "    <tr>\n",
       "      <th>73</th>\n",
       "      <td>73</td>\n",
       "      <td>2017-07-04 07:15:47.590162</td>\n",
       "    </tr>\n",
       "    <tr>\n",
       "      <th>74</th>\n",
       "      <td>74</td>\n",
       "      <td>2017-07-04 07:15:47.690692</td>\n",
       "    </tr>\n",
       "    <tr>\n",
       "      <th>75</th>\n",
       "      <td>75</td>\n",
       "      <td>2017-07-04 07:15:47.791134</td>\n",
       "    </tr>\n",
       "    <tr>\n",
       "      <th>76</th>\n",
       "      <td>76</td>\n",
       "      <td>2017-07-04 07:15:47.891508</td>\n",
       "    </tr>\n",
       "    <tr>\n",
       "      <th>77</th>\n",
       "      <td>77</td>\n",
       "      <td>2017-07-04 07:15:47.991974</td>\n",
       "    </tr>\n",
       "    <tr>\n",
       "      <th>78</th>\n",
       "      <td>78</td>\n",
       "      <td>2017-07-04 07:15:48.092389</td>\n",
       "    </tr>\n",
       "    <tr>\n",
       "      <th>79</th>\n",
       "      <td>79</td>\n",
       "      <td>2017-07-04 07:15:48.192889</td>\n",
       "    </tr>\n",
       "    <tr>\n",
       "      <th>80</th>\n",
       "      <td>80</td>\n",
       "      <td>2017-07-04 07:15:48.293356</td>\n",
       "    </tr>\n",
       "    <tr>\n",
       "      <th>81</th>\n",
       "      <td>81</td>\n",
       "      <td>2017-07-04 07:15:48.393835</td>\n",
       "    </tr>\n",
       "    <tr>\n",
       "      <th>82</th>\n",
       "      <td>82</td>\n",
       "      <td>2017-07-04 07:15:48.494328</td>\n",
       "    </tr>\n",
       "    <tr>\n",
       "      <th>83</th>\n",
       "      <td>83</td>\n",
       "      <td>2017-07-04 07:15:48.594845</td>\n",
       "    </tr>\n",
       "    <tr>\n",
       "      <th>84</th>\n",
       "      <td>84</td>\n",
       "      <td>2017-07-04 07:15:48.695299</td>\n",
       "    </tr>\n",
       "    <tr>\n",
       "      <th>85</th>\n",
       "      <td>85</td>\n",
       "      <td>2017-07-04 07:15:48.795801</td>\n",
       "    </tr>\n",
       "    <tr>\n",
       "      <th>86</th>\n",
       "      <td>86</td>\n",
       "      <td>2017-07-04 07:15:48.896254</td>\n",
       "    </tr>\n",
       "    <tr>\n",
       "      <th>87</th>\n",
       "      <td>87</td>\n",
       "      <td>2017-07-04 07:15:48.996703</td>\n",
       "    </tr>\n",
       "    <tr>\n",
       "      <th>88</th>\n",
       "      <td>88</td>\n",
       "      <td>2017-07-04 07:15:49.097184</td>\n",
       "    </tr>\n",
       "    <tr>\n",
       "      <th>89</th>\n",
       "      <td>89</td>\n",
       "      <td>2017-07-04 07:15:49.197463</td>\n",
       "    </tr>\n",
       "    <tr>\n",
       "      <th>90</th>\n",
       "      <td>90</td>\n",
       "      <td>2017-07-04 07:15:49.298048</td>\n",
       "    </tr>\n",
       "    <tr>\n",
       "      <th>91</th>\n",
       "      <td>91</td>\n",
       "      <td>2017-07-04 07:15:49.398637</td>\n",
       "    </tr>\n",
       "    <tr>\n",
       "      <th>92</th>\n",
       "      <td>92</td>\n",
       "      <td>2017-07-04 07:15:49.499141</td>\n",
       "    </tr>\n",
       "    <tr>\n",
       "      <th>93</th>\n",
       "      <td>93</td>\n",
       "      <td>2017-07-04 07:15:49.599543</td>\n",
       "    </tr>\n",
       "    <tr>\n",
       "      <th>94</th>\n",
       "      <td>94</td>\n",
       "      <td>2017-07-04 07:15:49.700122</td>\n",
       "    </tr>\n",
       "    <tr>\n",
       "      <th>95</th>\n",
       "      <td>95</td>\n",
       "      <td>2017-07-04 07:15:49.800542</td>\n",
       "    </tr>\n",
       "    <tr>\n",
       "      <th>96</th>\n",
       "      <td>96</td>\n",
       "      <td>2017-07-04 07:15:49.900961</td>\n",
       "    </tr>\n",
       "    <tr>\n",
       "      <th>97</th>\n",
       "      <td>97</td>\n",
       "      <td>2017-07-04 07:15:50.001429</td>\n",
       "    </tr>\n",
       "    <tr>\n",
       "      <th>98</th>\n",
       "      <td>98</td>\n",
       "      <td>2017-07-04 07:15:50.101900</td>\n",
       "    </tr>\n",
       "    <tr>\n",
       "      <th>99</th>\n",
       "      <td>99</td>\n",
       "      <td>2017-07-04 07:15:50.202352</td>\n",
       "    </tr>\n",
       "  </tbody>\n",
       "</table>\n",
       "<p>100 rows × 2 columns</p>\n",
       "</div>"
      ],
      "text/plain": [
       "    Index                   Datetime\n",
       "0       0 2017-07-04 07:15:40.254218\n",
       "1       1 2017-07-04 07:15:40.355224\n",
       "2       2 2017-07-04 07:15:40.455753\n",
       "3       3 2017-07-04 07:15:40.556035\n",
       "4       4 2017-07-04 07:15:40.656669\n",
       "5       5 2017-07-04 07:15:40.756945\n",
       "6       6 2017-07-04 07:15:40.857524\n",
       "7       7 2017-07-04 07:15:40.957998\n",
       "8       8 2017-07-04 07:15:41.058410\n",
       "9       9 2017-07-04 07:15:41.158994\n",
       "10     10 2017-07-04 07:15:41.259493\n",
       "11     11 2017-07-04 07:15:41.359999\n",
       "12     12 2017-07-04 07:15:41.460488\n",
       "13     13 2017-07-04 07:15:41.560985\n",
       "14     14 2017-07-04 07:15:41.661581\n",
       "15     15 2017-07-04 07:15:41.762014\n",
       "16     16 2017-07-04 07:15:41.862497\n",
       "17     17 2017-07-04 07:15:41.962989\n",
       "18     18 2017-07-04 07:15:42.063466\n",
       "19     19 2017-07-04 07:15:42.163874\n",
       "20     20 2017-07-04 07:15:42.264358\n",
       "21     21 2017-07-04 07:15:42.364739\n",
       "22     22 2017-07-04 07:15:42.465420\n",
       "23     23 2017-07-04 07:15:42.565930\n",
       "24     24 2017-07-04 07:15:42.666383\n",
       "25     25 2017-07-04 07:15:42.766796\n",
       "26     26 2017-07-04 07:15:42.867228\n",
       "27     27 2017-07-04 07:15:42.967666\n",
       "28     28 2017-07-04 07:15:43.068147\n",
       "29     29 2017-07-04 07:15:43.168652\n",
       "..    ...                        ...\n",
       "70     70 2017-07-04 07:15:47.288617\n",
       "71     71 2017-07-04 07:15:47.389142\n",
       "72     72 2017-07-04 07:15:47.489628\n",
       "73     73 2017-07-04 07:15:47.590162\n",
       "74     74 2017-07-04 07:15:47.690692\n",
       "75     75 2017-07-04 07:15:47.791134\n",
       "76     76 2017-07-04 07:15:47.891508\n",
       "77     77 2017-07-04 07:15:47.991974\n",
       "78     78 2017-07-04 07:15:48.092389\n",
       "79     79 2017-07-04 07:15:48.192889\n",
       "80     80 2017-07-04 07:15:48.293356\n",
       "81     81 2017-07-04 07:15:48.393835\n",
       "82     82 2017-07-04 07:15:48.494328\n",
       "83     83 2017-07-04 07:15:48.594845\n",
       "84     84 2017-07-04 07:15:48.695299\n",
       "85     85 2017-07-04 07:15:48.795801\n",
       "86     86 2017-07-04 07:15:48.896254\n",
       "87     87 2017-07-04 07:15:48.996703\n",
       "88     88 2017-07-04 07:15:49.097184\n",
       "89     89 2017-07-04 07:15:49.197463\n",
       "90     90 2017-07-04 07:15:49.298048\n",
       "91     91 2017-07-04 07:15:49.398637\n",
       "92     92 2017-07-04 07:15:49.499141\n",
       "93     93 2017-07-04 07:15:49.599543\n",
       "94     94 2017-07-04 07:15:49.700122\n",
       "95     95 2017-07-04 07:15:49.800542\n",
       "96     96 2017-07-04 07:15:49.900961\n",
       "97     97 2017-07-04 07:15:50.001429\n",
       "98     98 2017-07-04 07:15:50.101900\n",
       "99     99 2017-07-04 07:15:50.202352\n",
       "\n",
       "[100 rows x 2 columns]"
      ]
     },
     "execution_count": 9,
     "metadata": {},
     "output_type": "execute_result"
    }
   ],
   "source": [
    "!!from time import sleep\n",
    "from datetime import datetime\n",
    "import pandas as pd\n",
    "\n",
    "items = []\n",
    "for i in range(0, 100):\n",
    "    print(i)\n",
    "    sleep(0.1)\n",
    "    items.append((i, datetime.now()))\n",
    "\n",
    "pd.DataFrame(items, columns=['Index', 'Datetime'])"
   ]
  },
  {
   "cell_type": "code",
   "execution_count": 10,
   "metadata": {
    "deletable": false,
    "editable": false,
    "lc_cell_meme": {
     "current": "c95140be-5e2b-11e7-a968-0242ac110003",
     "history": [
      {
       "current": "c95140be-5e2b-11e7-a968-0242ac110003",
       "next": "c9514424-5e2b-11e7-a968-0242ac110003",
       "previous": "81c9561e-5e2b-11e7-a968-0242ac110003"
      }
     ],
     "next": "585d702a-5e2c-11e7-a968-0242ac110003",
     "previous": "81c9561e-5e2b-11e7-a968-0242ac110003"
    },
    "run_through_control": {
     "frozen": true
    }
   },
   "outputs": [
    {
     "name": "stdout",
     "output_type": "stream",
     "text": [
      "{\"lc_cell_meme\": {\"current\": \"81c9561e-5e2b-11e7-a968-0242ac110003\"}}\r\n",
      "----\r\n",
      "!!from time import sleep\r\n",
      "from datetime import datetime\r\n",
      "import pandas as pd\r\n",
      "\r\n",
      "items = []\r\n",
      "for i in range(0, 100):\r\n",
      "    print(i)\r\n",
      "    sleep(0.1)\r\n",
      "    items.append((i, datetime.now()))\r\n",
      "\r\n",
      "pd.DataFrame(items, columns=['Index', 'Datetime'])\r\n",
      "----\r\n",
      "path: /notebooks/.log/20170704/20170704-071539-0790.log\r\n",
      "start time: 2017-07-04 07:15:39(UTC)\r\n",
      "----\r\n",
      "0\r\n",
      "1\r\n",
      "2\r\n",
      "3\r\n",
      "4\r\n",
      "5\r\n",
      "6\r\n",
      "7\r\n",
      "8\r\n",
      "9\r\n",
      "10\r\n",
      "11\r\n",
      "12\r\n",
      "13\r\n",
      "14\r\n",
      "15\r\n",
      "16\r\n",
      "17\r\n",
      "18\r\n",
      "19\r\n",
      "20\r\n",
      "21\r\n",
      "22\r\n",
      "23\r\n",
      "24\r\n",
      "25\r\n",
      "26\r\n",
      "27\r\n",
      "28\r\n",
      "29\r\n",
      "30\r\n",
      "31\r\n",
      "32\r\n",
      "33\r\n",
      "34\r\n",
      "35\r\n",
      "36\r\n",
      "37\r\n",
      "38\r\n",
      "39\r\n",
      "40\r\n",
      "41\r\n",
      "42\r\n",
      "43\r\n",
      "44\r\n",
      "45\r\n",
      "46\r\n",
      "47\r\n",
      "48\r\n",
      "49\r\n",
      "50\r\n",
      "51\r\n",
      "52\r\n",
      "53\r\n",
      "54\r\n",
      "55\r\n",
      "56\r\n",
      "57\r\n",
      "58\r\n",
      "59\r\n",
      "60\r\n",
      "61\r\n",
      "62\r\n",
      "63\r\n",
      "64\r\n",
      "65\r\n",
      "66\r\n",
      "67\r\n",
      "68\r\n",
      "69\r\n",
      "70\r\n",
      "71\r\n",
      "72\r\n",
      "73\r\n",
      "74\r\n",
      "75\r\n",
      "76\r\n",
      "77\r\n",
      "78\r\n",
      "79\r\n",
      "80\r\n",
      "81\r\n",
      "82\r\n",
      "83\r\n",
      "84\r\n",
      "85\r\n",
      "86\r\n",
      "87\r\n",
      "88\r\n",
      "89\r\n",
      "90\r\n",
      "91\r\n",
      "92\r\n",
      "93\r\n",
      "94\r\n",
      "95\r\n",
      "96\r\n",
      "97\r\n",
      "98\r\n",
      "99\r\n",
      "\r\n",
      "----\r\n",
      "end time: 2017-07-04 07:15:50(UTC)\r\n",
      "output size: 309 bytes\r\n",
      "0 chunks with matched keywords or errors\r\n",
      "----\r\n",
      "result: /notebooks/.log/20170704/20170704-071539-0790-0.pkl\r\n"
     ]
    }
   ],
   "source": [
    "!cat /notebooks/.log/20170704/20170704-071539-0790.log"
   ]
  },
  {
   "cell_type": "markdown",
   "metadata": {
    "lc_cell_meme": {
     "current": "585d702a-5e2c-11e7-a968-0242ac110003",
     "next": "c9514424-5e2b-11e7-a968-0242ac110003",
     "previous": "c95140be-5e2b-11e7-a968-0242ac110003"
    }
   },
   "source": [
    "### Image in Execution Result"
   ]
  },
  {
   "cell_type": "code",
   "execution_count": 11,
   "metadata": {
    "collapsed": true,
    "deletable": false,
    "editable": false,
    "lc_cell_meme": {
     "current": "c9514424-5e2b-11e7-a968-0242ac110003",
     "history": [
      {
       "current": "c9514424-5e2b-11e7-a968-0242ac110003",
       "next": "c9514668-5e2b-11e7-a968-0242ac110003",
       "previous": "c95140be-5e2b-11e7-a968-0242ac110003"
      }
     ],
     "next": "c9514668-5e2b-11e7-a968-0242ac110003",
     "previous": "585d702a-5e2c-11e7-a968-0242ac110003"
    },
    "run_through_control": {
     "frozen": true
    }
   },
   "outputs": [],
   "source": [
    "%matplotlib inline"
   ]
  },
  {
   "cell_type": "code",
   "execution_count": 12,
   "metadata": {
    "deletable": false,
    "editable": false,
    "lc_cell_meme": {
     "current": "c9514668-5e2b-11e7-a968-0242ac110003",
     "next": "c951485c-5e2b-11e7-a968-0242ac110003",
     "previous": "c9514424-5e2b-11e7-a968-0242ac110003"
    },
    "run_through_control": {
     "frozen": true
    }
   },
   "outputs": [
    {
     "name": "stdout",
     "output_type": "stream",
     "text": [
      "path: /notebooks/.log/20170704/20170704-071619-0567.log\n",
      "start time: 2017-07-04 07:16:19(UTC)\n",
      "end time: 2017-07-04 07:16:29(UTC)\n",
      "output size: 956 bytes\n",
      "0 chunks with matched keywords or errors\n",
      "----\n",
      "0\n",
      "1\n",
      "2\n",
      "3\n",
      "...\n",
      "96\n",
      "97\n",
      "98\n",
      "99"
     ]
    },
    {
     "data": {
      "text/plain": [
       "<matplotlib.axes._subplots.AxesSubplot at 0x7fa8c77b1f10>"
      ]
     },
     "execution_count": 12,
     "metadata": {},
     "output_type": "execute_result"
    },
    {
     "data": {
      "image/png": "[encoded data removed]",
      "text/plain": [
       "<matplotlib.figure.Figure at 0x7fa8d775c190>"
      ]
     },
     "metadata": {},
     "output_type": "display_data"
    }
   ],
   "source": [
    "!!from time import sleep\n",
    "from datetime import datetime\n",
    "import pandas as pd\n",
    "\n",
    "items = []\n",
    "for i in range(0, 100):\n",
    "    print(i)\n",
    "    sleep(0.1)\n",
    "    items.append((datetime.now(), i))\n",
    "\n",
    "pd.DataFrame(items, columns=['Datetime', 'Index']).set_index('Datetime').plot()"
   ]
  },
  {
   "cell_type": "code",
   "execution_count": 13,
   "metadata": {
    "deletable": false,
    "editable": false,
    "lc_cell_meme": {
     "current": "c951485c-5e2b-11e7-a968-0242ac110003",
     "next": "dab0a6b2-56ea-11e7-ba0d-0242ac110002",
     "previous": "c9514668-5e2b-11e7-a968-0242ac110003"
    },
    "run_through_control": {
     "frozen": true
    }
   },
   "outputs": [
    {
     "name": "stdout",
     "output_type": "stream",
     "text": [
      "{\"lc_cell_meme\": {\"current\": \"c9514668-5e2b-11e7-a968-0242ac110003\"}}\r\n",
      "----\r\n",
      "!!from time import sleep\r\n",
      "from datetime import datetime\r\n",
      "import pandas as pd\r\n",
      "\r\n",
      "items = []\r\n",
      "for i in range(0, 100):\r\n",
      "    print(i)\r\n",
      "    sleep(0.1)\r\n",
      "    items.append((datetime.now(), i))\r\n",
      "\r\n",
      "pd.DataFrame(items, columns=['Datetime', 'Index']).set_index('Datetime').plot()\r\n",
      "----\r\n",
      "path: /notebooks/.log/20170704/20170704-071619-0567.log\r\n",
      "start time: 2017-07-04 07:16:19(UTC)\r\n",
      "----\r\n",
      "0\r\n",
      "1\r\n",
      "2\r\n",
      "3\r\n",
      "4\r\n",
      "5\r\n",
      "6\r\n",
      "7\r\n",
      "8\r\n",
      "9\r\n",
      "10\r\n",
      "11\r\n",
      "12\r\n",
      "13\r\n",
      "14\r\n",
      "15\r\n",
      "16\r\n",
      "17\r\n",
      "18\r\n",
      "19\r\n",
      "20\r\n",
      "21\r\n",
      "22\r\n",
      "23\r\n",
      "24\r\n",
      "25\r\n",
      "26\r\n",
      "27\r\n",
      "28\r\n",
      "29\r\n",
      "30\r\n",
      "31\r\n",
      "32\r\n",
      "33\r\n",
      "34\r\n",
      "35\r\n",
      "36\r\n",
      "37\r\n",
      "38\r\n",
      "39\r\n",
      "40\r\n",
      "41\r\n",
      "42\r\n",
      "43\r\n",
      "44\r\n",
      "45\r\n",
      "46\r\n",
      "47\r\n",
      "48\r\n",
      "49\r\n",
      "50\r\n",
      "51\r\n",
      "52\r\n",
      "53\r\n",
      "54\r\n",
      "55\r\n",
      "56\r\n",
      "57\r\n",
      "58\r\n",
      "59\r\n",
      "60\r\n",
      "61\r\n",
      "62\r\n",
      "63\r\n",
      "64\r\n",
      "65\r\n",
      "66\r\n",
      "67\r\n",
      "68\r\n",
      "69\r\n",
      "70\r\n",
      "71\r\n",
      "72\r\n",
      "73\r\n",
      "74\r\n",
      "75\r\n",
      "76\r\n",
      "77\r\n",
      "78\r\n",
      "79\r\n",
      "80\r\n",
      "81\r\n",
      "82\r\n",
      "83\r\n",
      "84\r\n",
      "85\r\n",
      "86\r\n",
      "87\r\n",
      "88\r\n",
      "89\r\n",
      "90\r\n",
      "91\r\n",
      "92\r\n",
      "93\r\n",
      "94\r\n",
      "95\r\n",
      "96\r\n",
      "97\r\n",
      "98\r\n",
      "99\r\n",
      "\r\n",
      "----\r\n",
      "end time: 2017-07-04 07:16:29(UTC)\r\n",
      "output size: 338 bytes\r\n",
      "0 chunks with matched keywords or errors\r\n",
      "----\r\n",
      "result: /notebooks/.log/20170704/20170704-071619-0567-0.pkl\r\n",
      "result: /notebooks/.log/20170704/20170704-071619-0567-1.pkl\r\n"
     ]
    }
   ],
   "source": [
    "!cat /notebooks/.log/20170704/20170704-071619-0567.log"
   ]
  },
  {
   "cell_type": "markdown",
   "metadata": {
    "lc_cell_meme": {
     "current": "dab0a6b2-56ea-11e7-ba0d-0242ac110002",
     "history": [
      {
       "current": "dab0a6b2-56ea-11e7-ba0d-0242ac110002",
       "next": "932a773c-56ea-11e7-ba0d-0242ac110002",
       "previous": "932a75fc-56ea-11e7-ba0d-0242ac110002"
      },
      {
       "current": "dab0a6b2-56ea-11e7-ba0d-0242ac110002",
       "next": "932a773c-56ea-11e7-ba0d-0242ac110002",
       "previous": "3a42e9fe-5e2b-11e7-a968-0242ac110003"
      },
      {
       "current": "dab0a6b2-56ea-11e7-ba0d-0242ac110002",
       "next": "932a773c-56ea-11e7-ba0d-0242ac110002",
       "previous": "81c9561e-5e2b-11e7-a968-0242ac110003"
      }
     ],
     "next": "932a773c-56ea-11e7-ba0d-0242ac110002",
     "previous": "c951485c-5e2b-11e7-a968-0242ac110003"
    }
   },
   "source": [
    "## Errors\n",
    "\n",
    "`lc_wrapper` can handle errors properly."
   ]
  },
  {
   "cell_type": "code",
   "execution_count": 14,
   "metadata": {
    "lc_cell_meme": {
     "current": "932a773c-56ea-11e7-ba0d-0242ac110002",
     "history": [
      {
       "current": "932a773c-56ea-11e7-ba0d-0242ac110002",
       "next": "932a785e-56ea-11e7-ba0d-0242ac110002",
       "previous": "932a75fc-56ea-11e7-ba0d-0242ac110002"
      },
      {
       "current": "932a773c-56ea-11e7-ba0d-0242ac110002",
       "next": "932a785e-56ea-11e7-ba0d-0242ac110002",
       "previous": "dab0a6b2-56ea-11e7-ba0d-0242ac110002"
      }
     ],
     "next": "ccab37fa-5e2c-11e7-a968-0242ac110003",
     "previous": "dab0a6b2-56ea-11e7-ba0d-0242ac110002"
    },
    "run_control": {
     "frozen": true
    }
   },
   "outputs": [
    {
     "name": "stdout",
     "output_type": "stream",
     "text": [
      "path: /notebooks/.log/20170704/20170704-071647-0970.log\n",
      "start time: 2017-07-04 07:16:47(UTC)\n",
      "end time: 2017-07-04 07:16:58(UTC)\n",
      "output size: 761 bytes\n",
      "0 chunks with matched keywords or errors\n",
      "----\n",
      "0\n",
      "1\n",
      "2\n",
      "3\n",
      "...\n",
      "96\n",
      "97\n",
      "98\n",
      "99"
     ]
    },
    {
     "ename": "AssertionError",
     "evalue": "",
     "output_type": "error",
     "traceback": [
      "\u001b[0;31m\u001b[0m",
      "\u001b[0;31mAssertionError\u001b[0mTraceback (most recent call last)",
      "\u001b[0;32m<ipython-input-28-5ce67cc1e015>\u001b[0m in \u001b[0;36m<module>\u001b[0;34m()\u001b[0m\n\u001b[1;32m      6\u001b[0m \u001b[0;34m\u001b[0m\u001b[0m\n\u001b[1;32m      7\u001b[0m \u001b[0;31m# Always raises AssertionError\u001b[0m\u001b[0;34m\u001b[0m\u001b[0;34m\u001b[0m\u001b[0m\n\u001b[0;32m----> 8\u001b[0;31m \u001b[0;32massert\u001b[0m \u001b[0mFalse\u001b[0m\u001b[0;34m\u001b[0m\u001b[0m\n\u001b[0m",
      "\u001b[0;31mAssertionError\u001b[0m: "
     ]
    }
   ],
   "source": [
    "!!from time import sleep\n",
    "\n",
    "for i in range(0, 100):\n",
    "    print(i)\n",
    "    sleep(0.1)\n",
    "\n",
    "# Always raises AssertionError\n",
    "assert False"
   ]
  },
  {
   "cell_type": "code",
   "execution_count": 15,
   "metadata": {
    "deletable": false,
    "editable": false,
    "lc_cell_meme": {
     "current": "ccab37fa-5e2c-11e7-a968-0242ac110003",
     "next": "3ae3ebd2-5e1d-11e7-a968-0242ac110003",
     "previous": "932a773c-56ea-11e7-ba0d-0242ac110002"
    },
    "run_through_control": {
     "frozen": true
    }
   },
   "outputs": [
    {
     "name": "stdout",
     "output_type": "stream",
     "text": [
      "{\"lc_cell_meme\": {\"current\": \"932a773c-56ea-11e7-ba0d-0242ac110002\"}}\r\n",
      "----\r\n",
      "!!from time import sleep\r\n",
      "\r\n",
      "for i in range(0, 100):\r\n",
      "    print(i)\r\n",
      "    sleep(0.1)\r\n",
      "\r\n",
      "# Always raises AssertionError\r\n",
      "assert False\r\n",
      "----\r\n",
      "path: /notebooks/.log/20170704/20170704-071647-0970.log\r\n",
      "start time: 2017-07-04 07:16:47(UTC)\r\n",
      "----\r\n",
      "0\r\n",
      "1\r\n",
      "2\r\n",
      "3\r\n",
      "4\r\n",
      "5\r\n",
      "6\r\n",
      "7\r\n",
      "8\r\n",
      "9\r\n",
      "10\r\n",
      "11\r\n",
      "12\r\n",
      "13\r\n",
      "14\r\n",
      "15\r\n",
      "16\r\n",
      "17\r\n",
      "18\r\n",
      "19\r\n",
      "20\r\n",
      "21\r\n",
      "22\r\n",
      "23\r\n",
      "24\r\n",
      "25\r\n",
      "26\r\n",
      "27\r\n",
      "28\r\n",
      "29\r\n",
      "30\r\n",
      "31\r\n",
      "32\r\n",
      "33\r\n",
      "34\r\n",
      "35\r\n",
      "36\r\n",
      "37\r\n",
      "38\r\n",
      "39\r\n",
      "40\r\n",
      "41\r\n",
      "42\r\n",
      "43\r\n",
      "44\r\n",
      "45\r\n",
      "46\r\n",
      "47\r\n",
      "48\r\n",
      "49\r\n",
      "50\r\n",
      "51\r\n",
      "52\r\n",
      "53\r\n",
      "54\r\n",
      "55\r\n",
      "56\r\n",
      "57\r\n",
      "58\r\n",
      "59\r\n",
      "60\r\n",
      "61\r\n",
      "62\r\n",
      "63\r\n",
      "64\r\n",
      "65\r\n",
      "66\r\n",
      "67\r\n",
      "68\r\n",
      "69\r\n",
      "70\r\n",
      "71\r\n",
      "72\r\n",
      "73\r\n",
      "74\r\n",
      "75\r\n",
      "76\r\n",
      "77\r\n",
      "78\r\n",
      "79\r\n",
      "80\r\n",
      "81\r\n",
      "82\r\n",
      "83\r\n",
      "84\r\n",
      "85\r\n",
      "86\r\n",
      "87\r\n",
      "88\r\n",
      "89\r\n",
      "90\r\n",
      "91\r\n",
      "92\r\n",
      "93\r\n",
      "94\r\n",
      "95\r\n",
      "96\r\n",
      "97\r\n",
      "98\r\n",
      "99\r\n",
      "\r\n",
      "----\r\n",
      "end time: 2017-07-04 07:16:58(UTC)\r\n",
      "output size: 203 bytes\r\n",
      "0 chunks with matched keywords or errors\r\n",
      "----\r\n",
      "result: /notebooks/.log/20170704/20170704-071647-0970-0.pkl\r\n"
     ]
    }
   ],
   "source": [
    "!cat /notebooks/.log/20170704/20170704-071647-0970.log"
   ]
  },
  {
   "cell_type": "code",
   "execution_count": null,
   "metadata": {
    "collapsed": true,
    "lc_cell_meme": {
     "current": "3ae3ebd2-5e1d-11e7-a968-0242ac110003",
     "history": [
      {
       "current": "3ae3ebd2-5e1d-11e7-a968-0242ac110003",
       "next": null,
       "previous": "3ae3e74a-5e1d-11e7-a968-0242ac110003"
      }
     ],
     "next": null,
     "previous": "ccab37fa-5e2c-11e7-a968-0242ac110003"
    }
   },
   "outputs": [],
   "source": []
  }
 ],
 "metadata": {
  "kernelspec": {
   "display_name": "Python 2 (LC_wrapper)",
   "language": "python",
   "name": "python2-wrapper"
  },
  "language_info": {
   "file_extension": ".py",
   "mimetype": "text/x-python",
   "name": "python",
   "nbconvert_exporter": "python",
   "pygments_lexer": "ipython2",
   "version": "2.7.9"
  },
  "lc_notebook_meme": {
   "current": "9ef287c0-5588-11e7-ab67-0242ac110003"
  },
  "toc": {
   "colors": {
    "hover_highlight": "#DAA520",
    "navigate_num": "#000000",
    "navigate_text": "#333333",
    "running_highlight": "#FF0000",
    "selected_highlight": "#FFD700",
    "sidebar_border": "#EEEEEE",
    "wrapper_background": "#FFFFFF"
   },
   "moveMenuLeft": true,
   "nav_menu": {
    "height": "12px",
    "width": "252px"
   },
   "navigate_menu": true,
   "number_sections": true,
   "sideBar": true,
   "threshold": 4,
   "toc_cell": false,
   "toc_section_display": "block",
   "toc_window_display": true,
   "widenNotebook": false
  }
 },
 "nbformat": 4,
 "nbformat_minor": 2
}
