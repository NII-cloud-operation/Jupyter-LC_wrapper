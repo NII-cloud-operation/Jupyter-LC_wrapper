{
 "cells": [
  {
   "cell_type": "markdown",
   "metadata": {
    "lc_cell_meme": {
     "current": "2236e8ca-56eb-11e7-ba0d-0242ac110002",
     "history": [
      {
       "current": "2236e8ca-56eb-11e7-ba0d-0242ac110002",
       "next": "2236eb90-56eb-11e7-ba0d-0242ac110002",
       "previous": null
      }
     ],
     "next": "fe0c8a00-5e28-11e7-a968-0242ac110003",
     "previous": null
    }
   },
   "source": [
    "# Summarizing and Logging\n",
    "\n",
    "An example of *the Summarizing and Logging* mode."
   ]
  },
  {
   "cell_type": "markdown",
   "metadata": {
    "lc_cell_meme": {
     "current": "fe0c8a00-5e28-11e7-a968-0242ac110003",
     "next": "fe0c8d70-5e28-11e7-a968-0242ac110003",
     "previous": "2236e8ca-56eb-11e7-ba0d-0242ac110002"
    }
   },
   "source": [
    "# Enabling the Summarizing and Logging mode\n",
    "\n",
    "To enable the Summarizing and Logging mode, you should add `!!` at the beginning of the code cell."
   ]
  },
  {
   "cell_type": "code",
   "execution_count": 1,
   "metadata": {
    "deletable": false,
    "editable": false,
    "lc_cell_meme": {
     "current": "fe0c8d70-5e28-11e7-a968-0242ac110003",
     "history": [
      {
       "current": "fe0c8d70-5e28-11e7-a968-0242ac110003",
       "next": "2236eb90-56eb-11e7-ba0d-0242ac110002",
       "previous": "fe0c8a00-5e28-11e7-a968-0242ac110003"
      },
      {
       "current": "fe0c8d70-5e28-11e7-a968-0242ac110003",
       "next": "8d19d46e-5e29-11e7-a968-0242ac110003",
       "previous": "fe0c8a00-5e28-11e7-a968-0242ac110003"
      }
     ],
     "next": "d4a11bbc-5e29-11e7-a968-0242ac110003",
     "previous": "fe0c8a00-5e28-11e7-a968-0242ac110003"
    },
    "run_through_control": {
     "frozen": true
    }
   },
   "outputs": [
    {
     "name": "stdout",
     "output_type": "stream",
     "text": [
      "start time: 2017-07-01 06:50:28(UTC)\n",
      "end time: 2017-07-01 06:50:38(UTC)\n",
      "Output Size(byte): 466, Lines: 109, Path: /notebooks/.log/20170701/20170701-065028-0554.log\n",
      "0 keyword matched or stderr happened\n",
      "\n",
      "0\n",
      "...\n",
      "99"
     ]
    }
   ],
   "source": [
    "!!from time import sleep\n",
    "\n",
    "for i in range(0, 100):\n",
    "    print(i)\n",
    "    sleep(0.1)"
   ]
  },
  {
   "cell_type": "markdown",
   "metadata": {
    "lc_cell_meme": {
     "current": "d4a11bbc-5e29-11e7-a968-0242ac110003",
     "next": "bbf96436-559e-11e7-b923-0242ac110002",
     "previous": "fe0c8d70-5e28-11e7-a968-0242ac110003"
    }
   },
   "source": [
    "You can configure [the summarization settings](https://github.com/NII-cloud-operation/Jupyter-LC_wrapper#settings-by-environment-variables) via the environment variable `lc_wrapper`."
   ]
  },
  {
   "cell_type": "code",
   "execution_count": 3,
   "metadata": {
    "deletable": false,
    "editable": false,
    "lc_cell_meme": {
     "current": "bbf96436-559e-11e7-b923-0242ac110002",
     "history": [
      {
       "current": "bbf96436-559e-11e7-b923-0242ac110002",
       "next": "bbf9667a-559e-11e7-b923-0242ac110002",
       "previous": null
      },
      {
       "current": "bbf96436-559e-11e7-b923-0242ac110002",
       "next": "2236ee24-56eb-11e7-ba0d-0242ac110002",
       "previous": "2236ed02-56eb-11e7-ba0d-0242ac110002"
      },
      {
       "current": "bbf96436-559e-11e7-b923-0242ac110002",
       "next": "8d19d46e-5e29-11e7-a968-0242ac110003",
       "previous": "d4a11bbc-5e29-11e7-a968-0242ac110003"
      }
     ],
     "next": "1c27a2c6-5e2a-11e7-a968-0242ac110003",
     "previous": "d4a11bbc-5e29-11e7-a968-0242ac110003"
    },
    "run_control": {
     "frozen": true
    },
    "run_through_control": {
     "frozen": true
    }
   },
   "outputs": [
    {
     "name": "stdout",
     "output_type": "stream",
     "text": [
      "env: lc_wrapper=4:4:4:4\n"
     ]
    }
   ],
   "source": [
    "%env lc_wrapper=4:4:4:4"
   ]
  },
  {
   "cell_type": "code",
   "execution_count": 4,
   "metadata": {
    "deletable": false,
    "editable": false,
    "lc_cell_meme": {
     "current": "1c27a2c6-5e2a-11e7-a968-0242ac110003",
     "next": "1c27a5f0-5e2a-11e7-a968-0242ac110003",
     "previous": "bbf96436-559e-11e7-b923-0242ac110002"
    },
    "run_through_control": {
     "frozen": true
    }
   },
   "outputs": [
    {
     "name": "stdout",
     "output_type": "stream",
     "text": [
      "start time: 2017-07-01 06:53:13(UTC)\n",
      "end time: 2017-07-01 06:53:23(UTC)\n",
      "Output Size(byte): 371, Lines: 108, Path: /notebooks/.log/20170701/20170701-065313-0833.log\n",
      "0 keyword matched or stderr happened\n",
      "\n",
      "0\n",
      "1\n",
      "2\n",
      "3\n",
      "...\n",
      "96\n",
      "97\n",
      "98\n",
      "99"
     ]
    }
   ],
   "source": [
    "!!from time import sleep\n",
    "\n",
    "for i in range(0, 100):\n",
    "    print(i)\n",
    "    sleep(0.1)"
   ]
  },
  {
   "cell_type": "markdown",
   "metadata": {
    "lc_cell_meme": {
     "current": "1c27a5f0-5e2a-11e7-a968-0242ac110003",
     "history": [
      {
       "current": "1c27a5f0-5e2a-11e7-a968-0242ac110003",
       "next": "8d19d46e-5e29-11e7-a968-0242ac110003",
       "previous": "1c27a2c6-5e2a-11e7-a968-0242ac110003"
      }
     ],
     "next": "63ae6fbc-5e2a-11e7-a968-0242ac110003",
     "previous": "1c27a2c6-5e2a-11e7-a968-0242ac110003"
    }
   },
   "source": [
    "The `.log` directory is created and the whole of output are recorded on a log file in this directory.\n",
    "\n",
    "The filename is recorded on output area like above."
   ]
  },
  {
   "cell_type": "code",
   "execution_count": 5,
   "metadata": {
    "deletable": false,
    "editable": false,
    "lc_cell_meme": {
     "current": "63ae6fbc-5e2a-11e7-a968-0242ac110003",
     "history": [
      {
       "current": "63ae6fbc-5e2a-11e7-a968-0242ac110003",
       "next": "8d19d46e-5e29-11e7-a968-0242ac110003",
       "previous": "1c27a5f0-5e2a-11e7-a968-0242ac110003"
      }
     ],
     "next": "2236ef50-56eb-11e7-ba0d-0242ac110002",
     "previous": "1c27a5f0-5e2a-11e7-a968-0242ac110003"
    },
    "run_through_control": {
     "frozen": true
    }
   },
   "outputs": [
    {
     "name": "stdout",
     "output_type": "stream",
     "text": [
      "!!from time import sleep\r\n",
      "\r\n",
      "for i in range(0, 100):\r\n",
      "    print(i)\r\n",
      "    sleep(0.1)\r\n",
      "\r\n",
      "0\r\n",
      "1\r\n",
      "2\r\n",
      "3\r\n",
      "4\r\n",
      "5\r\n",
      "6\r\n",
      "7\r\n",
      "8\r\n",
      "9\r\n",
      "10\r\n",
      "11\r\n",
      "12\r\n",
      "13\r\n",
      "14\r\n",
      "15\r\n",
      "16\r\n",
      "17\r\n",
      "18\r\n",
      "19\r\n",
      "20\r\n",
      "21\r\n",
      "22\r\n",
      "23\r\n",
      "24\r\n",
      "25\r\n",
      "26\r\n",
      "27\r\n",
      "28\r\n",
      "29\r\n",
      "30\r\n",
      "31\r\n",
      "32\r\n",
      "33\r\n",
      "34\r\n",
      "35\r\n",
      "36\r\n",
      "37\r\n",
      "38\r\n",
      "39\r\n",
      "40\r\n",
      "41\r\n",
      "42\r\n",
      "43\r\n",
      "44\r\n",
      "45\r\n",
      "46\r\n",
      "47\r\n",
      "48\r\n",
      "49\r\n",
      "50\r\n",
      "51\r\n",
      "52\r\n",
      "53\r\n",
      "54\r\n",
      "55\r\n",
      "56\r\n",
      "57\r\n",
      "58\r\n",
      "59\r\n",
      "60\r\n",
      "61\r\n",
      "62\r\n",
      "63\r\n",
      "64\r\n",
      "65\r\n",
      "66\r\n",
      "67\r\n",
      "68\r\n",
      "69\r\n",
      "70\r\n",
      "71\r\n",
      "72\r\n",
      "73\r\n",
      "74\r\n",
      "75\r\n",
      "76\r\n",
      "77\r\n",
      "78\r\n",
      "79\r\n",
      "80\r\n",
      "81\r\n",
      "82\r\n",
      "83\r\n",
      "84\r\n",
      "85\r\n",
      "86\r\n",
      "87\r\n",
      "88\r\n",
      "89\r\n",
      "90\r\n",
      "91\r\n",
      "92\r\n",
      "93\r\n",
      "94\r\n",
      "95\r\n",
      "96\r\n",
      "97\r\n",
      "98\r\n",
      "99\r\n",
      "\r\n",
      "\r\n"
     ]
    }
   ],
   "source": [
    "!cat /notebooks/.log/20170701/20170701-065313-0833.log"
   ]
  },
  {
   "cell_type": "markdown",
   "metadata": {
    "lc_cell_meme": {
     "current": "2236ef50-56eb-11e7-ba0d-0242ac110002",
     "history": [
      {
       "current": "2236ef50-56eb-11e7-ba0d-0242ac110002",
       "next": "bbf9667a-559e-11e7-b923-0242ac110002",
       "previous": "2236ee24-56eb-11e7-ba0d-0242ac110002"
      },
      {
       "current": "2236ef50-56eb-11e7-ba0d-0242ac110002",
       "next": "bbf9667a-559e-11e7-b923-0242ac110002",
       "previous": "63ae6fbc-5e2a-11e7-a968-0242ac110003"
      }
     ],
     "next": "932a7476-56ea-11e7-ba0d-0242ac110002",
     "previous": "63ae6fbc-5e2a-11e7-a968-0242ac110003"
    }
   },
   "source": [
    "## Various Types of Execution Results\n",
    "\n",
    "LC_wrapper also records execution results not only stream output."
   ]
  },
  {
   "cell_type": "markdown",
   "metadata": {
    "lc_cell_meme": {
     "current": "932a7476-56ea-11e7-ba0d-0242ac110002",
     "history": [
      {
       "current": "932a7476-56ea-11e7-ba0d-0242ac110002",
       "next": "932a75fc-56ea-11e7-ba0d-0242ac110002",
       "previous": "932a7192-56ea-11e7-ba0d-0242ac110002"
      }
     ],
     "next": "bbf9667a-559e-11e7-b923-0242ac110002",
     "previous": "2236ef50-56eb-11e7-ba0d-0242ac110002"
    }
   },
   "source": [
    "### Plain Text in Execution Result\n",
    "\n",
    "An execution result is recorded with stream outputs."
   ]
  },
  {
   "cell_type": "code",
   "execution_count": 6,
   "metadata": {
    "collapsed": true,
    "deletable": false,
    "editable": false,
    "lc_cell_meme": {
     "current": "bbf9667a-559e-11e7-b923-0242ac110002",
     "history": [
      {
       "current": "bbf9667a-559e-11e7-b923-0242ac110002",
       "next": "bbf96878-559e-11e7-b923-0242ac110002",
       "previous": "bbf96436-559e-11e7-b923-0242ac110002"
      },
      {
       "current": "bbf9667a-559e-11e7-b923-0242ac110002",
       "next": "bbf96878-559e-11e7-b923-0242ac110002",
       "previous": "2236ef50-56eb-11e7-ba0d-0242ac110002"
      },
      {
       "current": "bbf9667a-559e-11e7-b923-0242ac110002",
       "next": "932a7192-56ea-11e7-ba0d-0242ac110002",
       "previous": "2236ef50-56eb-11e7-ba0d-0242ac110002"
      }
     ],
     "next": "932a7192-56ea-11e7-ba0d-0242ac110002",
     "previous": "932a7476-56ea-11e7-ba0d-0242ac110002"
    },
    "run_control": {
     "frozen": true
    },
    "run_through_control": {
     "frozen": true
    }
   },
   "outputs": [],
   "source": [
    "def do_something():\n",
    "    return \"output something\""
   ]
  },
  {
   "cell_type": "code",
   "execution_count": 7,
   "metadata": {
    "deletable": false,
    "editable": false,
    "lc_cell_meme": {
     "current": "932a7192-56ea-11e7-ba0d-0242ac110002",
     "history": [
      {
       "current": "932a7192-56ea-11e7-ba0d-0242ac110002",
       "next": "932a7476-56ea-11e7-ba0d-0242ac110002",
       "previous": "bbf96878-559e-11e7-b923-0242ac110002"
      },
      {
       "current": "932a7192-56ea-11e7-ba0d-0242ac110002",
       "next": "932a7476-56ea-11e7-ba0d-0242ac110002",
       "previous": "bbf9667a-559e-11e7-b923-0242ac110002"
      }
     ],
     "next": "932a75fc-56ea-11e7-ba0d-0242ac110002",
     "previous": "bbf9667a-559e-11e7-b923-0242ac110002"
    },
    "run_control": {
     "frozen": true
    },
    "run_through_control": {
     "frozen": true
    }
   },
   "outputs": [
    {
     "data": {
      "text/plain": [
       "'output something'"
      ]
     },
     "execution_count": 7,
     "metadata": {},
     "output_type": "execute_result"
    }
   ],
   "source": [
    "do_something()"
   ]
  },
  {
   "cell_type": "code",
   "execution_count": 8,
   "metadata": {
    "deletable": false,
    "editable": false,
    "lc_cell_meme": {
     "current": "932a75fc-56ea-11e7-ba0d-0242ac110002",
     "history": [
      {
       "current": "932a75fc-56ea-11e7-ba0d-0242ac110002",
       "next": "932a773c-56ea-11e7-ba0d-0242ac110002",
       "previous": "932a7476-56ea-11e7-ba0d-0242ac110002"
      },
      {
       "current": "932a75fc-56ea-11e7-ba0d-0242ac110002",
       "next": "dab0a6b2-56ea-11e7-ba0d-0242ac110002",
       "previous": "932a7476-56ea-11e7-ba0d-0242ac110002"
      },
      {
       "current": "932a75fc-56ea-11e7-ba0d-0242ac110002",
       "next": "3a42e65c-5e2b-11e7-a968-0242ac110003",
       "previous": "932a7476-56ea-11e7-ba0d-0242ac110002"
      }
     ],
     "next": "3a42e65c-5e2b-11e7-a968-0242ac110003",
     "previous": "932a7192-56ea-11e7-ba0d-0242ac110002"
    },
    "run_control": {
     "frozen": true
    },
    "run_through_control": {
     "frozen": true
    }
   },
   "outputs": [
    {
     "name": "stdout",
     "output_type": "stream",
     "text": [
      "start time: 2017-07-01 07:01:49(UTC)\n",
      "end time: 2017-07-01 07:01:59(UTC)\n",
      "Output Size(byte): 501, Lines: 112, Path: /notebooks/.log/20170701/20170701-070149-0943.log\n",
      "0 keyword matched or stderr happened\n",
      "\n",
      "0\n",
      "1\n",
      "2\n",
      "3\n",
      "...\n",
      "96\n",
      "97\n",
      "98\n",
      "99"
     ]
    },
    {
     "data": {
      "text/plain": [
       "'output something'"
      ]
     },
     "execution_count": 8,
     "metadata": {},
     "output_type": "execute_result"
    }
   ],
   "source": [
    "!!from time import sleep\n",
    "\n",
    "for i in range(0, 100):\n",
    "    print(i)\n",
    "    sleep(0.1)\n",
    "\n",
    "do_something()"
   ]
  },
  {
   "cell_type": "code",
   "execution_count": 9,
   "metadata": {
    "deletable": false,
    "editable": false,
    "lc_cell_meme": {
     "current": "3a42e65c-5e2b-11e7-a968-0242ac110003",
     "next": "3a42e9fe-5e2b-11e7-a968-0242ac110003",
     "previous": "932a75fc-56ea-11e7-ba0d-0242ac110002"
    },
    "run_through_control": {
     "frozen": true
    }
   },
   "outputs": [
    {
     "name": "stdout",
     "output_type": "stream",
     "text": [
      "/notebooks/.log/932a75fc-56ea-11e7-ba0d-0242ac110002/932a75fc-56ea-11e7-ba0d-0242ac110002.json\r\n",
      "!!from time import sleep\r\n",
      "\r\n",
      "for i in range(0, 100):\r\n",
      "    print(i)\r\n",
      "    sleep(0.1)\r\n",
      "\r\n",
      "do_something()\r\n",
      "\r\n",
      "0\r\n",
      "1\r\n",
      "2\r\n",
      "3\r\n",
      "4\r\n",
      "5\r\n",
      "6\r\n",
      "7\r\n",
      "8\r\n",
      "9\r\n",
      "10\r\n",
      "11\r\n",
      "12\r\n",
      "13\r\n",
      "14\r\n",
      "15\r\n",
      "16\r\n",
      "17\r\n",
      "18\r\n",
      "19\r\n",
      "20\r\n",
      "21\r\n",
      "22\r\n",
      "23\r\n",
      "24\r\n",
      "25\r\n",
      "26\r\n",
      "27\r\n",
      "28\r\n",
      "29\r\n",
      "30\r\n",
      "31\r\n",
      "32\r\n",
      "33\r\n",
      "34\r\n",
      "35\r\n",
      "36\r\n",
      "37\r\n",
      "38\r\n",
      "39\r\n",
      "40\r\n",
      "41\r\n",
      "42\r\n",
      "43\r\n",
      "44\r\n",
      "45\r\n",
      "46\r\n",
      "47\r\n",
      "48\r\n",
      "49\r\n",
      "50\r\n",
      "51\r\n",
      "52\r\n",
      "53\r\n",
      "54\r\n",
      "55\r\n",
      "56\r\n",
      "57\r\n",
      "58\r\n",
      "59\r\n",
      "60\r\n",
      "61\r\n",
      "62\r\n",
      "63\r\n",
      "64\r\n",
      "65\r\n",
      "66\r\n",
      "67\r\n",
      "68\r\n",
      "69\r\n",
      "70\r\n",
      "71\r\n",
      "72\r\n",
      "73\r\n",
      "74\r\n",
      "75\r\n",
      "76\r\n",
      "77\r\n",
      "78\r\n",
      "79\r\n",
      "80\r\n",
      "81\r\n",
      "82\r\n",
      "83\r\n",
      "84\r\n",
      "85\r\n",
      "86\r\n",
      "87\r\n",
      "88\r\n",
      "89\r\n",
      "90\r\n",
      "91\r\n",
      "92\r\n",
      "93\r\n",
      "94\r\n",
      "95\r\n",
      "96\r\n",
      "97\r\n",
      "98\r\n",
      "99\r\n",
      "\r\n",
      "\r\n",
      "'output something'\r\n"
     ]
    }
   ],
   "source": [
    "!cat /notebooks/.log/20170701/20170701-070149-0943.log"
   ]
  },
  {
   "cell_type": "markdown",
   "metadata": {
    "lc_cell_meme": {
     "current": "3a42e9fe-5e2b-11e7-a968-0242ac110003",
     "history": [
      {
       "current": "3a42e9fe-5e2b-11e7-a968-0242ac110003",
       "next": "dab0a6b2-56ea-11e7-ba0d-0242ac110002",
       "previous": "3a42e65c-5e2b-11e7-a968-0242ac110003"
      }
     ],
     "next": "81c9561e-5e2b-11e7-a968-0242ac110003",
     "previous": "3a42e65c-5e2b-11e7-a968-0242ac110003"
    }
   },
   "source": [
    "### HTML in Execution Result\n",
    "\n",
    "Also you can contain HTML code in an exeuction result..."
   ]
  },
  {
   "cell_type": "code",
   "execution_count": 10,
   "metadata": {
    "deletable": false,
    "editable": false,
    "lc_cell_meme": {
     "current": "81c9561e-5e2b-11e7-a968-0242ac110003",
     "history": [
      {
       "current": "81c9561e-5e2b-11e7-a968-0242ac110003",
       "next": "dab0a6b2-56ea-11e7-ba0d-0242ac110002",
       "previous": "3a42e9fe-5e2b-11e7-a968-0242ac110003"
      }
     ],
     "next": "c95140be-5e2b-11e7-a968-0242ac110003",
     "previous": "3a42e9fe-5e2b-11e7-a968-0242ac110003"
    },
    "run_through_control": {
     "frozen": true
    }
   },
   "outputs": [
    {
     "name": "stdout",
     "output_type": "stream",
     "text": [
      "start time: 2017-07-01 07:04:10(UTC)\n",
      "end time: 2017-07-01 07:04:20(UTC)\n",
      "Output Size(byte): 2840, Lines: 178, Path: /notebooks/.log/20170701/20170701-070410-0587.log\n",
      "0 keyword matched or stderr happened\n",
      "\n",
      "0\n",
      "1\n",
      "2\n",
      "3\n",
      "...\n",
      "96\n",
      "97\n",
      "98\n",
      "99"
     ]
    },
    {
     "data": {
      "text/html": [
       "<div>\n",
       "<style>\n",
       "    .dataframe thead tr:only-child th {\n",
       "        text-align: right;\n",
       "    }\n",
       "\n",
       "    .dataframe thead th {\n",
       "        text-align: left;\n",
       "    }\n",
       "\n",
       "    .dataframe tbody tr th {\n",
       "        vertical-align: top;\n",
       "    }\n",
       "</style>\n",
       "<table border=\"1\" class=\"dataframe\">\n",
       "  <thead>\n",
       "    <tr style=\"text-align: right;\">\n",
       "      <th></th>\n",
       "      <th>Index</th>\n",
       "      <th>Datetime</th>\n",
       "    </tr>\n",
       "  </thead>\n",
       "  <tbody>\n",
       "    <tr>\n",
       "      <th>0</th>\n",
       "      <td>0</td>\n",
       "      <td>2017-07-01 07:04:10.484227</td>\n",
       "    </tr>\n",
       "    <tr>\n",
       "      <th>1</th>\n",
       "      <td>1</td>\n",
       "      <td>2017-07-01 07:04:10.584635</td>\n",
       "    </tr>\n",
       "    <tr>\n",
       "      <th>2</th>\n",
       "      <td>2</td>\n",
       "      <td>2017-07-01 07:04:10.685598</td>\n",
       "    </tr>\n",
       "    <tr>\n",
       "      <th>3</th>\n",
       "      <td>3</td>\n",
       "      <td>2017-07-01 07:04:10.786269</td>\n",
       "    </tr>\n",
       "    <tr>\n",
       "      <th>4</th>\n",
       "      <td>4</td>\n",
       "      <td>2017-07-01 07:04:10.886747</td>\n",
       "    </tr>\n",
       "    <tr>\n",
       "      <th>5</th>\n",
       "      <td>5</td>\n",
       "      <td>2017-07-01 07:04:10.987200</td>\n",
       "    </tr>\n",
       "    <tr>\n",
       "      <th>6</th>\n",
       "      <td>6</td>\n",
       "      <td>2017-07-01 07:04:11.087663</td>\n",
       "    </tr>\n",
       "    <tr>\n",
       "      <th>7</th>\n",
       "      <td>7</td>\n",
       "      <td>2017-07-01 07:04:11.188130</td>\n",
       "    </tr>\n",
       "    <tr>\n",
       "      <th>8</th>\n",
       "      <td>8</td>\n",
       "      <td>2017-07-01 07:04:11.288606</td>\n",
       "    </tr>\n",
       "    <tr>\n",
       "      <th>9</th>\n",
       "      <td>9</td>\n",
       "      <td>2017-07-01 07:04:11.389094</td>\n",
       "    </tr>\n",
       "    <tr>\n",
       "      <th>10</th>\n",
       "      <td>10</td>\n",
       "      <td>2017-07-01 07:04:11.489543</td>\n",
       "    </tr>\n",
       "    <tr>\n",
       "      <th>11</th>\n",
       "      <td>11</td>\n",
       "      <td>2017-07-01 07:04:11.589851</td>\n",
       "    </tr>\n",
       "    <tr>\n",
       "      <th>12</th>\n",
       "      <td>12</td>\n",
       "      <td>2017-07-01 07:04:11.690490</td>\n",
       "    </tr>\n",
       "    <tr>\n",
       "      <th>13</th>\n",
       "      <td>13</td>\n",
       "      <td>2017-07-01 07:04:11.790922</td>\n",
       "    </tr>\n",
       "    <tr>\n",
       "      <th>14</th>\n",
       "      <td>14</td>\n",
       "      <td>2017-07-01 07:04:11.891369</td>\n",
       "    </tr>\n",
       "    <tr>\n",
       "      <th>15</th>\n",
       "      <td>15</td>\n",
       "      <td>2017-07-01 07:04:11.991818</td>\n",
       "    </tr>\n",
       "    <tr>\n",
       "      <th>16</th>\n",
       "      <td>16</td>\n",
       "      <td>2017-07-01 07:04:12.092399</td>\n",
       "    </tr>\n",
       "    <tr>\n",
       "      <th>17</th>\n",
       "      <td>17</td>\n",
       "      <td>2017-07-01 07:04:12.192784</td>\n",
       "    </tr>\n",
       "    <tr>\n",
       "      <th>18</th>\n",
       "      <td>18</td>\n",
       "      <td>2017-07-01 07:04:12.293230</td>\n",
       "    </tr>\n",
       "    <tr>\n",
       "      <th>19</th>\n",
       "      <td>19</td>\n",
       "      <td>2017-07-01 07:04:12.393652</td>\n",
       "    </tr>\n",
       "    <tr>\n",
       "      <th>20</th>\n",
       "      <td>20</td>\n",
       "      <td>2017-07-01 07:04:12.494089</td>\n",
       "    </tr>\n",
       "    <tr>\n",
       "      <th>21</th>\n",
       "      <td>21</td>\n",
       "      <td>2017-07-01 07:04:12.594544</td>\n",
       "    </tr>\n",
       "    <tr>\n",
       "      <th>22</th>\n",
       "      <td>22</td>\n",
       "      <td>2017-07-01 07:04:12.695001</td>\n",
       "    </tr>\n",
       "    <tr>\n",
       "      <th>23</th>\n",
       "      <td>23</td>\n",
       "      <td>2017-07-01 07:04:12.795419</td>\n",
       "    </tr>\n",
       "    <tr>\n",
       "      <th>24</th>\n",
       "      <td>24</td>\n",
       "      <td>2017-07-01 07:04:12.895871</td>\n",
       "    </tr>\n",
       "    <tr>\n",
       "      <th>25</th>\n",
       "      <td>25</td>\n",
       "      <td>2017-07-01 07:04:12.996281</td>\n",
       "    </tr>\n",
       "    <tr>\n",
       "      <th>26</th>\n",
       "      <td>26</td>\n",
       "      <td>2017-07-01 07:04:13.096784</td>\n",
       "    </tr>\n",
       "    <tr>\n",
       "      <th>27</th>\n",
       "      <td>27</td>\n",
       "      <td>2017-07-01 07:04:13.197258</td>\n",
       "    </tr>\n",
       "    <tr>\n",
       "      <th>28</th>\n",
       "      <td>28</td>\n",
       "      <td>2017-07-01 07:04:13.297694</td>\n",
       "    </tr>\n",
       "    <tr>\n",
       "      <th>29</th>\n",
       "      <td>29</td>\n",
       "      <td>2017-07-01 07:04:13.398178</td>\n",
       "    </tr>\n",
       "    <tr>\n",
       "      <th>...</th>\n",
       "      <td>...</td>\n",
       "      <td>...</td>\n",
       "    </tr>\n",
       "    <tr>\n",
       "      <th>70</th>\n",
       "      <td>70</td>\n",
       "      <td>2017-07-01 07:04:17.517798</td>\n",
       "    </tr>\n",
       "    <tr>\n",
       "      <th>71</th>\n",
       "      <td>71</td>\n",
       "      <td>2017-07-01 07:04:17.618274</td>\n",
       "    </tr>\n",
       "    <tr>\n",
       "      <th>72</th>\n",
       "      <td>72</td>\n",
       "      <td>2017-07-01 07:04:17.718696</td>\n",
       "    </tr>\n",
       "    <tr>\n",
       "      <th>73</th>\n",
       "      <td>73</td>\n",
       "      <td>2017-07-01 07:04:17.819230</td>\n",
       "    </tr>\n",
       "    <tr>\n",
       "      <th>74</th>\n",
       "      <td>74</td>\n",
       "      <td>2017-07-01 07:04:17.919725</td>\n",
       "    </tr>\n",
       "    <tr>\n",
       "      <th>75</th>\n",
       "      <td>75</td>\n",
       "      <td>2017-07-01 07:04:18.020199</td>\n",
       "    </tr>\n",
       "    <tr>\n",
       "      <th>76</th>\n",
       "      <td>76</td>\n",
       "      <td>2017-07-01 07:04:18.120580</td>\n",
       "    </tr>\n",
       "    <tr>\n",
       "      <th>77</th>\n",
       "      <td>77</td>\n",
       "      <td>2017-07-01 07:04:18.221134</td>\n",
       "    </tr>\n",
       "    <tr>\n",
       "      <th>78</th>\n",
       "      <td>78</td>\n",
       "      <td>2017-07-01 07:04:18.321618</td>\n",
       "    </tr>\n",
       "    <tr>\n",
       "      <th>79</th>\n",
       "      <td>79</td>\n",
       "      <td>2017-07-01 07:04:18.422126</td>\n",
       "    </tr>\n",
       "    <tr>\n",
       "      <th>80</th>\n",
       "      <td>80</td>\n",
       "      <td>2017-07-01 07:04:18.522619</td>\n",
       "    </tr>\n",
       "    <tr>\n",
       "      <th>81</th>\n",
       "      <td>81</td>\n",
       "      <td>2017-07-01 07:04:18.623109</td>\n",
       "    </tr>\n",
       "    <tr>\n",
       "      <th>82</th>\n",
       "      <td>82</td>\n",
       "      <td>2017-07-01 07:04:18.723582</td>\n",
       "    </tr>\n",
       "    <tr>\n",
       "      <th>83</th>\n",
       "      <td>83</td>\n",
       "      <td>2017-07-01 07:04:18.824055</td>\n",
       "    </tr>\n",
       "    <tr>\n",
       "      <th>84</th>\n",
       "      <td>84</td>\n",
       "      <td>2017-07-01 07:04:18.924444</td>\n",
       "    </tr>\n",
       "    <tr>\n",
       "      <th>85</th>\n",
       "      <td>85</td>\n",
       "      <td>2017-07-01 07:04:19.024993</td>\n",
       "    </tr>\n",
       "    <tr>\n",
       "      <th>86</th>\n",
       "      <td>86</td>\n",
       "      <td>2017-07-01 07:04:19.125482</td>\n",
       "    </tr>\n",
       "    <tr>\n",
       "      <th>87</th>\n",
       "      <td>87</td>\n",
       "      <td>2017-07-01 07:04:19.225988</td>\n",
       "    </tr>\n",
       "    <tr>\n",
       "      <th>88</th>\n",
       "      <td>88</td>\n",
       "      <td>2017-07-01 07:04:19.326481</td>\n",
       "    </tr>\n",
       "    <tr>\n",
       "      <th>89</th>\n",
       "      <td>89</td>\n",
       "      <td>2017-07-01 07:04:19.426976</td>\n",
       "    </tr>\n",
       "    <tr>\n",
       "      <th>90</th>\n",
       "      <td>90</td>\n",
       "      <td>2017-07-01 07:04:19.527467</td>\n",
       "    </tr>\n",
       "    <tr>\n",
       "      <th>91</th>\n",
       "      <td>91</td>\n",
       "      <td>2017-07-01 07:04:19.627941</td>\n",
       "    </tr>\n",
       "    <tr>\n",
       "      <th>92</th>\n",
       "      <td>92</td>\n",
       "      <td>2017-07-01 07:04:19.728429</td>\n",
       "    </tr>\n",
       "    <tr>\n",
       "      <th>93</th>\n",
       "      <td>93</td>\n",
       "      <td>2017-07-01 07:04:19.828908</td>\n",
       "    </tr>\n",
       "    <tr>\n",
       "      <th>94</th>\n",
       "      <td>94</td>\n",
       "      <td>2017-07-01 07:04:19.929405</td>\n",
       "    </tr>\n",
       "    <tr>\n",
       "      <th>95</th>\n",
       "      <td>95</td>\n",
       "      <td>2017-07-01 07:04:20.029887</td>\n",
       "    </tr>\n",
       "    <tr>\n",
       "      <th>96</th>\n",
       "      <td>96</td>\n",
       "      <td>2017-07-01 07:04:20.130379</td>\n",
       "    </tr>\n",
       "    <tr>\n",
       "      <th>97</th>\n",
       "      <td>97</td>\n",
       "      <td>2017-07-01 07:04:20.230885</td>\n",
       "    </tr>\n",
       "    <tr>\n",
       "      <th>98</th>\n",
       "      <td>98</td>\n",
       "      <td>2017-07-01 07:04:20.331346</td>\n",
       "    </tr>\n",
       "    <tr>\n",
       "      <th>99</th>\n",
       "      <td>99</td>\n",
       "      <td>2017-07-01 07:04:20.431775</td>\n",
       "    </tr>\n",
       "  </tbody>\n",
       "</table>\n",
       "<p>100 rows × 2 columns</p>\n",
       "</div>"
      ],
      "text/plain": [
       "    Index                   Datetime\n",
       "0       0 2017-07-01 07:04:10.484227\n",
       "1       1 2017-07-01 07:04:10.584635\n",
       "2       2 2017-07-01 07:04:10.685598\n",
       "3       3 2017-07-01 07:04:10.786269\n",
       "4       4 2017-07-01 07:04:10.886747\n",
       "5       5 2017-07-01 07:04:10.987200\n",
       "6       6 2017-07-01 07:04:11.087663\n",
       "7       7 2017-07-01 07:04:11.188130\n",
       "8       8 2017-07-01 07:04:11.288606\n",
       "9       9 2017-07-01 07:04:11.389094\n",
       "10     10 2017-07-01 07:04:11.489543\n",
       "11     11 2017-07-01 07:04:11.589851\n",
       "12     12 2017-07-01 07:04:11.690490\n",
       "13     13 2017-07-01 07:04:11.790922\n",
       "14     14 2017-07-01 07:04:11.891369\n",
       "15     15 2017-07-01 07:04:11.991818\n",
       "16     16 2017-07-01 07:04:12.092399\n",
       "17     17 2017-07-01 07:04:12.192784\n",
       "18     18 2017-07-01 07:04:12.293230\n",
       "19     19 2017-07-01 07:04:12.393652\n",
       "20     20 2017-07-01 07:04:12.494089\n",
       "21     21 2017-07-01 07:04:12.594544\n",
       "22     22 2017-07-01 07:04:12.695001\n",
       "23     23 2017-07-01 07:04:12.795419\n",
       "24     24 2017-07-01 07:04:12.895871\n",
       "25     25 2017-07-01 07:04:12.996281\n",
       "26     26 2017-07-01 07:04:13.096784\n",
       "27     27 2017-07-01 07:04:13.197258\n",
       "28     28 2017-07-01 07:04:13.297694\n",
       "29     29 2017-07-01 07:04:13.398178\n",
       "..    ...                        ...\n",
       "70     70 2017-07-01 07:04:17.517798\n",
       "71     71 2017-07-01 07:04:17.618274\n",
       "72     72 2017-07-01 07:04:17.718696\n",
       "73     73 2017-07-01 07:04:17.819230\n",
       "74     74 2017-07-01 07:04:17.919725\n",
       "75     75 2017-07-01 07:04:18.020199\n",
       "76     76 2017-07-01 07:04:18.120580\n",
       "77     77 2017-07-01 07:04:18.221134\n",
       "78     78 2017-07-01 07:04:18.321618\n",
       "79     79 2017-07-01 07:04:18.422126\n",
       "80     80 2017-07-01 07:04:18.522619\n",
       "81     81 2017-07-01 07:04:18.623109\n",
       "82     82 2017-07-01 07:04:18.723582\n",
       "83     83 2017-07-01 07:04:18.824055\n",
       "84     84 2017-07-01 07:04:18.924444\n",
       "85     85 2017-07-01 07:04:19.024993\n",
       "86     86 2017-07-01 07:04:19.125482\n",
       "87     87 2017-07-01 07:04:19.225988\n",
       "88     88 2017-07-01 07:04:19.326481\n",
       "89     89 2017-07-01 07:04:19.426976\n",
       "90     90 2017-07-01 07:04:19.527467\n",
       "91     91 2017-07-01 07:04:19.627941\n",
       "92     92 2017-07-01 07:04:19.728429\n",
       "93     93 2017-07-01 07:04:19.828908\n",
       "94     94 2017-07-01 07:04:19.929405\n",
       "95     95 2017-07-01 07:04:20.029887\n",
       "96     96 2017-07-01 07:04:20.130379\n",
       "97     97 2017-07-01 07:04:20.230885\n",
       "98     98 2017-07-01 07:04:20.331346\n",
       "99     99 2017-07-01 07:04:20.431775\n",
       "\n",
       "[100 rows x 2 columns]"
      ]
     },
     "execution_count": 10,
     "metadata": {},
     "output_type": "execute_result"
    }
   ],
   "source": [
    "!!from time import sleep\n",
    "from datetime import datetime\n",
    "import pandas as pd\n",
    "\n",
    "items = []\n",
    "for i in range(0, 100):\n",
    "    print(i)\n",
    "    sleep(0.1)\n",
    "    items.append((i, datetime.now()))\n",
    "\n",
    "pd.DataFrame(items, columns=['Index', 'Datetime'])"
   ]
  },
  {
   "cell_type": "code",
   "execution_count": 11,
   "metadata": {
    "deletable": false,
    "editable": false,
    "lc_cell_meme": {
     "current": "c95140be-5e2b-11e7-a968-0242ac110003",
     "history": [
      {
       "current": "c95140be-5e2b-11e7-a968-0242ac110003",
       "next": "c9514424-5e2b-11e7-a968-0242ac110003",
       "previous": "81c9561e-5e2b-11e7-a968-0242ac110003"
      }
     ],
     "next": "585d702a-5e2c-11e7-a968-0242ac110003",
     "previous": "81c9561e-5e2b-11e7-a968-0242ac110003"
    },
    "run_through_control": {
     "frozen": true
    }
   },
   "outputs": [
    {
     "name": "stdout",
     "output_type": "stream",
     "text": [
      "!!from time import sleep\r\n",
      "from datetime import datetime\r\n",
      "import pandas as pd\r\n",
      "\r\n",
      "items = []\r\n",
      "for i in range(0, 100):\r\n",
      "    print(i)\r\n",
      "    sleep(0.1)\r\n",
      "    items.append((i, datetime.now()))\r\n",
      "\r\n",
      "pd.DataFrame(items, columns=['Index', 'Datetime'])\r\n",
      "\r\n",
      "0\r\n",
      "1\r\n",
      "2\r\n",
      "3\r\n",
      "4\r\n",
      "5\r\n",
      "6\r\n",
      "7\r\n",
      "8\r\n",
      "9\r\n",
      "10\r\n",
      "11\r\n",
      "12\r\n",
      "13\r\n",
      "14\r\n",
      "15\r\n",
      "16\r\n",
      "17\r\n",
      "18\r\n",
      "19\r\n",
      "20\r\n",
      "21\r\n",
      "22\r\n",
      "23\r\n",
      "24\r\n",
      "25\r\n",
      "26\r\n",
      "27\r\n",
      "28\r\n",
      "29\r\n",
      "30\r\n",
      "31\r\n",
      "32\r\n",
      "33\r\n",
      "34\r\n",
      "35\r\n",
      "36\r\n",
      "37\r\n",
      "38\r\n",
      "39\r\n",
      "40\r\n",
      "41\r\n",
      "42\r\n",
      "43\r\n",
      "44\r\n",
      "45\r\n",
      "46\r\n",
      "47\r\n",
      "48\r\n",
      "49\r\n",
      "50\r\n",
      "51\r\n",
      "52\r\n",
      "53\r\n",
      "54\r\n",
      "55\r\n",
      "56\r\n",
      "57\r\n",
      "58\r\n",
      "59\r\n",
      "60\r\n",
      "61\r\n",
      "62\r\n",
      "63\r\n",
      "64\r\n",
      "65\r\n",
      "66\r\n",
      "67\r\n",
      "68\r\n",
      "69\r\n",
      "70\r\n",
      "71\r\n",
      "72\r\n",
      "73\r\n",
      "74\r\n",
      "75\r\n",
      "76\r\n",
      "77\r\n",
      "78\r\n",
      "79\r\n",
      "80\r\n",
      "81\r\n",
      "82\r\n",
      "83\r\n",
      "84\r\n",
      "85\r\n",
      "86\r\n",
      "87\r\n",
      "88\r\n",
      "89\r\n",
      "90\r\n",
      "91\r\n",
      "92\r\n",
      "93\r\n",
      "94\r\n",
      "95\r\n",
      "96\r\n",
      "97\r\n",
      "98\r\n",
      "99\r\n",
      "\r\n",
      "\r\n",
      "    Index                   Datetime\r\n",
      "0       0 2017-07-01 07:04:10.484227\r\n",
      "1       1 2017-07-01 07:04:10.584635\r\n",
      "2       2 2017-07-01 07:04:10.685598\r\n",
      "3       3 2017-07-01 07:04:10.786269\r\n",
      "4       4 2017-07-01 07:04:10.886747\r\n",
      "5       5 2017-07-01 07:04:10.987200\r\n",
      "6       6 2017-07-01 07:04:11.087663\r\n",
      "7       7 2017-07-01 07:04:11.188130\r\n",
      "8       8 2017-07-01 07:04:11.288606\r\n",
      "9       9 2017-07-01 07:04:11.389094\r\n",
      "10     10 2017-07-01 07:04:11.489543\r\n",
      "11     11 2017-07-01 07:04:11.589851\r\n",
      "12     12 2017-07-01 07:04:11.690490\r\n",
      "13     13 2017-07-01 07:04:11.790922\r\n",
      "14     14 2017-07-01 07:04:11.891369\r\n",
      "15     15 2017-07-01 07:04:11.991818\r\n",
      "16     16 2017-07-01 07:04:12.092399\r\n",
      "17     17 2017-07-01 07:04:12.192784\r\n",
      "18     18 2017-07-01 07:04:12.293230\r\n",
      "19     19 2017-07-01 07:04:12.393652\r\n",
      "20     20 2017-07-01 07:04:12.494089\r\n",
      "21     21 2017-07-01 07:04:12.594544\r\n",
      "22     22 2017-07-01 07:04:12.695001\r\n",
      "23     23 2017-07-01 07:04:12.795419\r\n",
      "24     24 2017-07-01 07:04:12.895871\r\n",
      "25     25 2017-07-01 07:04:12.996281\r\n",
      "26     26 2017-07-01 07:04:13.096784\r\n",
      "27     27 2017-07-01 07:04:13.197258\r\n",
      "28     28 2017-07-01 07:04:13.297694\r\n",
      "29     29 2017-07-01 07:04:13.398178\r\n",
      "..    ...                        ...\r\n",
      "70     70 2017-07-01 07:04:17.517798\r\n",
      "71     71 2017-07-01 07:04:17.618274\r\n",
      "72     72 2017-07-01 07:04:17.718696\r\n",
      "73     73 2017-07-01 07:04:17.819230\r\n",
      "74     74 2017-07-01 07:04:17.919725\r\n",
      "75     75 2017-07-01 07:04:18.020199\r\n",
      "76     76 2017-07-01 07:04:18.120580\r\n",
      "77     77 2017-07-01 07:04:18.221134\r\n",
      "78     78 2017-07-01 07:04:18.321618\r\n",
      "79     79 2017-07-01 07:04:18.422126\r\n",
      "80     80 2017-07-01 07:04:18.522619\r\n",
      "81     81 2017-07-01 07:04:18.623109\r\n",
      "82     82 2017-07-01 07:04:18.723582\r\n",
      "83     83 2017-07-01 07:04:18.824055\r\n",
      "84     84 2017-07-01 07:04:18.924444\r\n",
      "85     85 2017-07-01 07:04:19.024993\r\n",
      "86     86 2017-07-01 07:04:19.125482\r\n",
      "87     87 2017-07-01 07:04:19.225988\r\n",
      "88     88 2017-07-01 07:04:19.326481\r\n",
      "89     89 2017-07-01 07:04:19.426976\r\n",
      "90     90 2017-07-01 07:04:19.527467\r\n",
      "91     91 2017-07-01 07:04:19.627941\r\n",
      "92     92 2017-07-01 07:04:19.728429\r\n",
      "93     93 2017-07-01 07:04:19.828908\r\n",
      "94     94 2017-07-01 07:04:19.929405\r\n",
      "95     95 2017-07-01 07:04:20.029887\r\n",
      "96     96 2017-07-01 07:04:20.130379\r\n",
      "97     97 2017-07-01 07:04:20.230885\r\n",
      "98     98 2017-07-01 07:04:20.331346\r\n",
      "99     99 2017-07-01 07:04:20.431775\r\n",
      "\r\n",
      "[100 rows x 2 columns]\r\n"
     ]
    }
   ],
   "source": [
    "!cat /notebooks/.log/20170701/20170701-070410-0587.log"
   ]
  },
  {
   "cell_type": "markdown",
   "metadata": {
    "lc_cell_meme": {
     "current": "585d702a-5e2c-11e7-a968-0242ac110003",
     "next": "c9514424-5e2b-11e7-a968-0242ac110003",
     "previous": "c95140be-5e2b-11e7-a968-0242ac110003"
    }
   },
   "source": [
    "### Image in Execution Result"
   ]
  },
  {
   "cell_type": "code",
   "execution_count": 12,
   "metadata": {
    "collapsed": true,
    "deletable": false,
    "editable": false,
    "lc_cell_meme": {
     "current": "c9514424-5e2b-11e7-a968-0242ac110003",
     "history": [
      {
       "current": "c9514424-5e2b-11e7-a968-0242ac110003",
       "next": "c9514668-5e2b-11e7-a968-0242ac110003",
       "previous": "c95140be-5e2b-11e7-a968-0242ac110003"
      }
     ],
     "next": "c9514668-5e2b-11e7-a968-0242ac110003",
     "previous": "585d702a-5e2c-11e7-a968-0242ac110003"
    },
    "run_through_control": {
     "frozen": true
    }
   },
   "outputs": [],
   "source": [
    "%matplotlib inline"
   ]
  },
  {
   "cell_type": "code",
   "execution_count": 13,
   "metadata": {
    "deletable": false,
    "editable": false,
    "lc_cell_meme": {
     "current": "c9514668-5e2b-11e7-a968-0242ac110003",
     "next": "c951485c-5e2b-11e7-a968-0242ac110003",
     "previous": "c9514424-5e2b-11e7-a968-0242ac110003"
    },
    "run_through_control": {
     "frozen": true
    }
   },
   "outputs": [
    {
     "name": "stdout",
     "output_type": "stream",
     "text": [
      "start time: 2017-07-01 07:05:56(UTC)\n",
      "end time: 2017-07-01 07:06:07(UTC)\n",
      "Output Size(byte): 654, Lines: 116, Path: /notebooks/.log/20170701/20170701-070556-0922.log\n",
      "0 keyword matched or stderr happened\n",
      "\n",
      "0\n",
      "1\n",
      "2\n",
      "3\n",
      "...\n",
      "96\n",
      "97\n",
      "98\n",
      "99"
     ]
    },
    {
     "data": {
      "text/plain": [
       "<matplotlib.axes._subplots.AxesSubplot at 0x7f8ac4294f10>"
      ]
     },
     "execution_count": 13,
     "metadata": {},
     "output_type": "execute_result"
    },
    {
     "data": {
      "image/png": "[encoded data removed]",
      "text/plain": [
       "<matplotlib.figure.Figure at 0x7f8ae02bf4d0>"
      ]
     },
     "metadata": {},
     "output_type": "display_data"
    }
   ],
   "source": [
    "!!from time import sleep\n",
    "from datetime import datetime\n",
    "import pandas as pd\n",
    "\n",
    "items = []\n",
    "for i in range(0, 100):\n",
    "    print(i)\n",
    "    sleep(0.1)\n",
    "    items.append((datetime.now(), i))\n",
    "\n",
    "pd.DataFrame(items, columns=['Datetime', 'Index']).set_index('Datetime').plot()"
   ]
  },
  {
   "cell_type": "code",
   "execution_count": 14,
   "metadata": {
    "deletable": false,
    "editable": false,
    "lc_cell_meme": {
     "current": "c951485c-5e2b-11e7-a968-0242ac110003",
     "next": "dab0a6b2-56ea-11e7-ba0d-0242ac110002",
     "previous": "c9514668-5e2b-11e7-a968-0242ac110003"
    },
    "run_through_control": {
     "frozen": true
    }
   },
   "outputs": [
    {
     "name": "stdout",
     "output_type": "stream",
     "text": [
      "!!from time import sleep\r\n",
      "from datetime import datetime\r\n",
      "import pandas as pd\r\n",
      "\r\n",
      "items = []\r\n",
      "for i in range(0, 100):\r\n",
      "    print(i)\r\n",
      "    sleep(0.1)\r\n",
      "    items.append((datetime.now(), i))\r\n",
      "\r\n",
      "pd.DataFrame(items, columns=['Datetime', 'Index']).set_index('Datetime').plot()\r\n",
      "\r\n",
      "0\r\n",
      "1\r\n",
      "2\r\n",
      "3\r\n",
      "4\r\n",
      "5\r\n",
      "6\r\n",
      "7\r\n",
      "8\r\n",
      "9\r\n",
      "10\r\n",
      "11\r\n",
      "12\r\n",
      "13\r\n",
      "14\r\n",
      "15\r\n",
      "16\r\n",
      "17\r\n",
      "18\r\n",
      "19\r\n",
      "20\r\n",
      "21\r\n",
      "22\r\n",
      "23\r\n",
      "24\r\n",
      "25\r\n",
      "26\r\n",
      "27\r\n",
      "28\r\n",
      "29\r\n",
      "30\r\n",
      "31\r\n",
      "32\r\n",
      "33\r\n",
      "34\r\n",
      "35\r\n",
      "36\r\n",
      "37\r\n",
      "38\r\n",
      "39\r\n",
      "40\r\n",
      "41\r\n",
      "42\r\n",
      "43\r\n",
      "44\r\n",
      "45\r\n",
      "46\r\n",
      "47\r\n",
      "48\r\n",
      "49\r\n",
      "50\r\n",
      "51\r\n",
      "52\r\n",
      "53\r\n",
      "54\r\n",
      "55\r\n",
      "56\r\n",
      "57\r\n",
      "58\r\n",
      "59\r\n",
      "60\r\n",
      "61\r\n",
      "62\r\n",
      "63\r\n",
      "64\r\n",
      "65\r\n",
      "66\r\n",
      "67\r\n",
      "68\r\n",
      "69\r\n",
      "70\r\n",
      "71\r\n",
      "72\r\n",
      "73\r\n",
      "74\r\n",
      "75\r\n",
      "76\r\n",
      "77\r\n",
      "78\r\n",
      "79\r\n",
      "80\r\n",
      "81\r\n",
      "82\r\n",
      "83\r\n",
      "84\r\n",
      "85\r\n",
      "86\r\n",
      "87\r\n",
      "88\r\n",
      "89\r\n",
      "90\r\n",
      "91\r\n",
      "92\r\n",
      "93\r\n",
      "94\r\n",
      "95\r\n",
      "96\r\n",
      "97\r\n",
      "98\r\n",
      "99\r\n",
      "\r\n",
      "\r\n",
      "<matplotlib.axes._subplots.AxesSubplot at 0x7f8ac4294f10>\r\n",
      "<matplotlib.figure.Figure at 0x7f8ae02bf4d0>\r\n"
     ]
    }
   ],
   "source": [
    "!cat /notebooks/.log/20170701/20170701-070556-0922.log"
   ]
  },
  {
   "cell_type": "markdown",
   "metadata": {
    "lc_cell_meme": {
     "current": "dab0a6b2-56ea-11e7-ba0d-0242ac110002",
     "history": [
      {
       "current": "dab0a6b2-56ea-11e7-ba0d-0242ac110002",
       "next": "932a773c-56ea-11e7-ba0d-0242ac110002",
       "previous": "932a75fc-56ea-11e7-ba0d-0242ac110002"
      },
      {
       "current": "dab0a6b2-56ea-11e7-ba0d-0242ac110002",
       "next": "932a773c-56ea-11e7-ba0d-0242ac110002",
       "previous": "3a42e9fe-5e2b-11e7-a968-0242ac110003"
      },
      {
       "current": "dab0a6b2-56ea-11e7-ba0d-0242ac110002",
       "next": "932a773c-56ea-11e7-ba0d-0242ac110002",
       "previous": "81c9561e-5e2b-11e7-a968-0242ac110003"
      }
     ],
     "next": "932a773c-56ea-11e7-ba0d-0242ac110002",
     "previous": "c951485c-5e2b-11e7-a968-0242ac110003"
    }
   },
   "source": [
    "## Errors\n",
    "\n",
    "`lc_wrapper` can handle errors properly."
   ]
  },
  {
   "cell_type": "code",
   "execution_count": 15,
   "metadata": {
    "lc_cell_meme": {
     "current": "932a773c-56ea-11e7-ba0d-0242ac110002",
     "history": [
      {
       "current": "932a773c-56ea-11e7-ba0d-0242ac110002",
       "next": "932a785e-56ea-11e7-ba0d-0242ac110002",
       "previous": "932a75fc-56ea-11e7-ba0d-0242ac110002"
      },
      {
       "current": "932a773c-56ea-11e7-ba0d-0242ac110002",
       "next": "932a785e-56ea-11e7-ba0d-0242ac110002",
       "previous": "dab0a6b2-56ea-11e7-ba0d-0242ac110002"
      }
     ],
     "next": "ccab37fa-5e2c-11e7-a968-0242ac110003",
     "previous": "dab0a6b2-56ea-11e7-ba0d-0242ac110002"
    },
    "run_control": {
     "frozen": true
    }
   },
   "outputs": [
    {
     "name": "stdout",
     "output_type": "stream",
     "text": [
      "start time: 2017-07-01 07:12:56(UTC)\n",
      "end time: 2017-07-01 07:13:06(UTC)\n",
      "Output Size(byte): 880, Lines: 117, Path: /notebooks/.log/20170701/20170701-071256-0433.log\n",
      "0 keyword matched or stderr happened\n",
      "\n",
      "0\n",
      "1\n",
      "2\n",
      "3\n",
      "...\n",
      "96\n",
      "97\n",
      "98\n",
      "99"
     ]
    },
    {
     "ename": "AssertionError",
     "evalue": "",
     "output_type": "error",
     "traceback": [
      "\u001b[0;31m\u001b[0m",
      "\u001b[0;31mAssertionError\u001b[0mTraceback (most recent call last)",
      "\u001b[0;32m<ipython-input-30-1beea7c56b18>\u001b[0m in \u001b[0;36m<module>\u001b[0;34m()\u001b[0m\n\u001b[1;32m      6\u001b[0m \u001b[0;34m\u001b[0m\u001b[0m\n\u001b[1;32m      7\u001b[0m \u001b[0;31m# Always raises AssertionError\u001b[0m\u001b[0;34m\u001b[0m\u001b[0;34m\u001b[0m\u001b[0m\n\u001b[0;32m----> 8\u001b[0;31m \u001b[0;32massert\u001b[0m \u001b[0mFalse\u001b[0m\u001b[0;34m\u001b[0m\u001b[0m\n\u001b[0m",
      "\u001b[0;31mAssertionError\u001b[0m: "
     ]
    }
   ],
   "source": [
    "!!from time import sleep\n",
    "\n",
    "for i in range(0, 100):\n",
    "    print(i)\n",
    "    sleep(0.1)\n",
    "\n",
    "# Always raises AssertionError\n",
    "assert False"
   ]
  },
  {
   "cell_type": "code",
   "execution_count": 16,
   "metadata": {
    "deletable": false,
    "editable": false,
    "lc_cell_meme": {
     "current": "ccab37fa-5e2c-11e7-a968-0242ac110003",
     "next": "3ae3ebd2-5e1d-11e7-a968-0242ac110003",
     "previous": "932a773c-56ea-11e7-ba0d-0242ac110002"
    },
    "run_through_control": {
     "frozen": true
    }
   },
   "outputs": [
    {
     "name": "stdout",
     "output_type": "stream",
     "text": [
      "/notebooks/.log/932a773c-56ea-11e7-ba0d-0242ac110002/932a773c-56ea-11e7-ba0d-0242ac110002.json\r\n",
      "!!!!from time import sleep\r\n",
      "\r\n",
      "for i in range(0, 100):\r\n",
      "    print(i)\r\n",
      "    sleep(0.1)\r\n",
      "\r\n",
      "# Always raises AssertionError\r\n",
      "assert False\r\n",
      "\r\n",
      "0\r\n",
      "1\r\n",
      "2\r\n",
      "3\r\n",
      "4\r\n",
      "5\r\n",
      "6\r\n",
      "7\r\n",
      "8\r\n",
      "9\r\n",
      "10\r\n",
      "11\r\n",
      "12\r\n",
      "13\r\n",
      "14\r\n",
      "15\r\n",
      "16\r\n",
      "17\r\n",
      "18\r\n",
      "19\r\n",
      "20\r\n",
      "21\r\n",
      "22\r\n",
      "23\r\n",
      "24\r\n",
      "25\r\n",
      "26\r\n",
      "27\r\n",
      "28\r\n",
      "29\r\n",
      "30\r\n",
      "31\r\n",
      "32\r\n",
      "33\r\n",
      "34\r\n",
      "35\r\n",
      "36\r\n",
      "37\r\n",
      "38\r\n",
      "39\r\n",
      "40\r\n",
      "41\r\n",
      "42\r\n",
      "43\r\n",
      "44\r\n",
      "45\r\n",
      "46\r\n",
      "47\r\n",
      "48\r\n",
      "49\r\n",
      "50\r\n",
      "51\r\n",
      "52\r\n",
      "53\r\n",
      "54\r\n",
      "55\r\n",
      "56\r\n",
      "57\r\n",
      "58\r\n",
      "59\r\n",
      "60\r\n",
      "61\r\n",
      "62\r\n",
      "63\r\n",
      "64\r\n",
      "65\r\n",
      "66\r\n",
      "67\r\n",
      "68\r\n",
      "69\r\n",
      "70\r\n",
      "71\r\n",
      "72\r\n",
      "73\r\n",
      "74\r\n",
      "75\r\n",
      "76\r\n",
      "77\r\n",
      "78\r\n",
      "79\r\n",
      "80\r\n",
      "81\r\n",
      "82\r\n",
      "83\r\n",
      "84\r\n",
      "85\r\n",
      "86\r\n",
      "87\r\n",
      "88\r\n",
      "89\r\n",
      "90\r\n",
      "91\r\n",
      "92\r\n",
      "93\r\n",
      "94\r\n",
      "95\r\n",
      "96\r\n",
      "97\r\n",
      "98\r\n",
      "99\r\n",
      "\r\n",
      "\r\n",
      "\u001b[0;31m\u001b[0m\u001b[0;31mAssertionError\u001b[0mTraceback (most recent call last)\u001b[0;32m<ipython-input-30-1beea7c56b18>\u001b[0m in \u001b[0;36m<module>\u001b[0;34m()\u001b[0m\r\n",
      "\u001b[1;32m      6\u001b[0m \u001b[0;34m\u001b[0m\u001b[0m\r\n",
      "\u001b[1;32m      7\u001b[0m \u001b[0;31m# Always raises AssertionError\u001b[0m\u001b[0;34m\u001b[0m\u001b[0;34m\u001b[0m\u001b[0m\r\n",
      "\u001b[0;32m----> 8\u001b[0;31m \u001b[0;32massert\u001b[0m \u001b[0mFalse\u001b[0m\u001b[0;34m\u001b[0m\u001b[0m\r\n",
      "\u001b[0m\u001b[0;31mAssertionError\u001b[0m: \r\n"
     ]
    }
   ],
   "source": [
    "!cat /notebooks/.log/20170701/20170701-071256-0433.log"
   ]
  },
  {
   "cell_type": "code",
   "execution_count": null,
   "metadata": {
    "collapsed": true,
    "lc_cell_meme": {
     "current": "3ae3ebd2-5e1d-11e7-a968-0242ac110003",
     "history": [
      {
       "current": "3ae3ebd2-5e1d-11e7-a968-0242ac110003",
       "next": null,
       "previous": "3ae3e74a-5e1d-11e7-a968-0242ac110003"
      }
     ],
     "next": null,
     "previous": "ccab37fa-5e2c-11e7-a968-0242ac110003"
    }
   },
   "outputs": [],
   "source": []
  }
 ],
 "metadata": {
  "kernelspec": {
   "display_name": "Python 2 (LC_wrapper)",
   "language": "python",
   "name": "python2-wrapper"
  },
  "language_info": {
   "file_extension": ".py",
   "mimetype": "text/x-python",
   "name": "python",
   "nbconvert_exporter": "python",
   "pygments_lexer": "ipython2",
   "version": "2.7.9"
  },
  "lc_notebook_meme": {
   "current": "9ef287c0-5588-11e7-ab67-0242ac110003"
  },
  "toc": {
   "colors": {
    "hover_highlight": "#DAA520",
    "navigate_num": "#000000",
    "navigate_text": "#333333",
    "running_highlight": "#FF0000",
    "selected_highlight": "#FFD700",
    "sidebar_border": "#EEEEEE",
    "wrapper_background": "#FFFFFF"
   },
   "moveMenuLeft": true,
   "nav_menu": {
    "height": "12px",
    "width": "252px"
   },
   "navigate_menu": true,
   "number_sections": true,
   "sideBar": true,
   "threshold": 4,
   "toc_cell": false,
   "toc_section_display": "block",
   "toc_window_display": true,
   "widenNotebook": false
  }
 },
 "nbformat": 4,
 "nbformat_minor": 2
}
